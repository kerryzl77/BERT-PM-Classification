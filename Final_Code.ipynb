{
  "nbformat": 4,
  "nbformat_minor": 0,
  "metadata": {
    "colab": {
      "provenance": [],
      "gpuType": "A100",
      "collapsed_sections": [
        "5oWP_7DCCBkQ"
      ],
      "machine_shape": "hm"
    },
    "kernelspec": {
      "name": "python3",
      "display_name": "Python 3"
    },
    "language_info": {
      "name": "python"
    },
    "accelerator": "GPU",
    "widgets": {
      "application/vnd.jupyter.widget-state+json": {
        "80e2231d0d764a159ef5509d42b6c59c": {
          "model_module": "@jupyter-widgets/controls",
          "model_name": "HBoxModel",
          "model_module_version": "1.5.0",
          "state": {
            "_dom_classes": [],
            "_model_module": "@jupyter-widgets/controls",
            "_model_module_version": "1.5.0",
            "_model_name": "HBoxModel",
            "_view_count": null,
            "_view_module": "@jupyter-widgets/controls",
            "_view_module_version": "1.5.0",
            "_view_name": "HBoxView",
            "box_style": "",
            "children": [
              "IPY_MODEL_c5b2ac1038d7441aa22013205aab2f74",
              "IPY_MODEL_3697f9fd8dfc4bfd9ecee038cd31b8a2",
              "IPY_MODEL_9843b9d3d5cc4955a3adebd4342dd532"
            ],
            "layout": "IPY_MODEL_667774cbafb5440198cecebf49f3f8d7"
          }
        },
        "c5b2ac1038d7441aa22013205aab2f74": {
          "model_module": "@jupyter-widgets/controls",
          "model_name": "HTMLModel",
          "model_module_version": "1.5.0",
          "state": {
            "_dom_classes": [],
            "_model_module": "@jupyter-widgets/controls",
            "_model_module_version": "1.5.0",
            "_model_name": "HTMLModel",
            "_view_count": null,
            "_view_module": "@jupyter-widgets/controls",
            "_view_module_version": "1.5.0",
            "_view_name": "HTMLView",
            "description": "",
            "description_tooltip": null,
            "layout": "IPY_MODEL_4ddc09da304f41329188cf4fd79c13af",
            "placeholder": "​",
            "style": "IPY_MODEL_2e4950747a9a4d79ac45082ea0896f01",
            "value": "tokenizer_config.json: 100%"
          }
        },
        "3697f9fd8dfc4bfd9ecee038cd31b8a2": {
          "model_module": "@jupyter-widgets/controls",
          "model_name": "FloatProgressModel",
          "model_module_version": "1.5.0",
          "state": {
            "_dom_classes": [],
            "_model_module": "@jupyter-widgets/controls",
            "_model_module_version": "1.5.0",
            "_model_name": "FloatProgressModel",
            "_view_count": null,
            "_view_module": "@jupyter-widgets/controls",
            "_view_module_version": "1.5.0",
            "_view_name": "ProgressView",
            "bar_style": "success",
            "description": "",
            "description_tooltip": null,
            "layout": "IPY_MODEL_74231b3593714012b6d897e8d29eded0",
            "max": 48,
            "min": 0,
            "orientation": "horizontal",
            "style": "IPY_MODEL_4076ae62110243a5918f98a832a4c605",
            "value": 48
          }
        },
        "9843b9d3d5cc4955a3adebd4342dd532": {
          "model_module": "@jupyter-widgets/controls",
          "model_name": "HTMLModel",
          "model_module_version": "1.5.0",
          "state": {
            "_dom_classes": [],
            "_model_module": "@jupyter-widgets/controls",
            "_model_module_version": "1.5.0",
            "_model_name": "HTMLModel",
            "_view_count": null,
            "_view_module": "@jupyter-widgets/controls",
            "_view_module_version": "1.5.0",
            "_view_name": "HTMLView",
            "description": "",
            "description_tooltip": null,
            "layout": "IPY_MODEL_132d16a0e1b8468f8554ca9863f349d7",
            "placeholder": "​",
            "style": "IPY_MODEL_ce9fc1454b66426694faee398bf29920",
            "value": " 48.0/48.0 [00:00&lt;00:00, 3.37kB/s]"
          }
        },
        "667774cbafb5440198cecebf49f3f8d7": {
          "model_module": "@jupyter-widgets/base",
          "model_name": "LayoutModel",
          "model_module_version": "1.2.0",
          "state": {
            "_model_module": "@jupyter-widgets/base",
            "_model_module_version": "1.2.0",
            "_model_name": "LayoutModel",
            "_view_count": null,
            "_view_module": "@jupyter-widgets/base",
            "_view_module_version": "1.2.0",
            "_view_name": "LayoutView",
            "align_content": null,
            "align_items": null,
            "align_self": null,
            "border": null,
            "bottom": null,
            "display": null,
            "flex": null,
            "flex_flow": null,
            "grid_area": null,
            "grid_auto_columns": null,
            "grid_auto_flow": null,
            "grid_auto_rows": null,
            "grid_column": null,
            "grid_gap": null,
            "grid_row": null,
            "grid_template_areas": null,
            "grid_template_columns": null,
            "grid_template_rows": null,
            "height": null,
            "justify_content": null,
            "justify_items": null,
            "left": null,
            "margin": null,
            "max_height": null,
            "max_width": null,
            "min_height": null,
            "min_width": null,
            "object_fit": null,
            "object_position": null,
            "order": null,
            "overflow": null,
            "overflow_x": null,
            "overflow_y": null,
            "padding": null,
            "right": null,
            "top": null,
            "visibility": null,
            "width": null
          }
        },
        "4ddc09da304f41329188cf4fd79c13af": {
          "model_module": "@jupyter-widgets/base",
          "model_name": "LayoutModel",
          "model_module_version": "1.2.0",
          "state": {
            "_model_module": "@jupyter-widgets/base",
            "_model_module_version": "1.2.0",
            "_model_name": "LayoutModel",
            "_view_count": null,
            "_view_module": "@jupyter-widgets/base",
            "_view_module_version": "1.2.0",
            "_view_name": "LayoutView",
            "align_content": null,
            "align_items": null,
            "align_self": null,
            "border": null,
            "bottom": null,
            "display": null,
            "flex": null,
            "flex_flow": null,
            "grid_area": null,
            "grid_auto_columns": null,
            "grid_auto_flow": null,
            "grid_auto_rows": null,
            "grid_column": null,
            "grid_gap": null,
            "grid_row": null,
            "grid_template_areas": null,
            "grid_template_columns": null,
            "grid_template_rows": null,
            "height": null,
            "justify_content": null,
            "justify_items": null,
            "left": null,
            "margin": null,
            "max_height": null,
            "max_width": null,
            "min_height": null,
            "min_width": null,
            "object_fit": null,
            "object_position": null,
            "order": null,
            "overflow": null,
            "overflow_x": null,
            "overflow_y": null,
            "padding": null,
            "right": null,
            "top": null,
            "visibility": null,
            "width": null
          }
        },
        "2e4950747a9a4d79ac45082ea0896f01": {
          "model_module": "@jupyter-widgets/controls",
          "model_name": "DescriptionStyleModel",
          "model_module_version": "1.5.0",
          "state": {
            "_model_module": "@jupyter-widgets/controls",
            "_model_module_version": "1.5.0",
            "_model_name": "DescriptionStyleModel",
            "_view_count": null,
            "_view_module": "@jupyter-widgets/base",
            "_view_module_version": "1.2.0",
            "_view_name": "StyleView",
            "description_width": ""
          }
        },
        "74231b3593714012b6d897e8d29eded0": {
          "model_module": "@jupyter-widgets/base",
          "model_name": "LayoutModel",
          "model_module_version": "1.2.0",
          "state": {
            "_model_module": "@jupyter-widgets/base",
            "_model_module_version": "1.2.0",
            "_model_name": "LayoutModel",
            "_view_count": null,
            "_view_module": "@jupyter-widgets/base",
            "_view_module_version": "1.2.0",
            "_view_name": "LayoutView",
            "align_content": null,
            "align_items": null,
            "align_self": null,
            "border": null,
            "bottom": null,
            "display": null,
            "flex": null,
            "flex_flow": null,
            "grid_area": null,
            "grid_auto_columns": null,
            "grid_auto_flow": null,
            "grid_auto_rows": null,
            "grid_column": null,
            "grid_gap": null,
            "grid_row": null,
            "grid_template_areas": null,
            "grid_template_columns": null,
            "grid_template_rows": null,
            "height": null,
            "justify_content": null,
            "justify_items": null,
            "left": null,
            "margin": null,
            "max_height": null,
            "max_width": null,
            "min_height": null,
            "min_width": null,
            "object_fit": null,
            "object_position": null,
            "order": null,
            "overflow": null,
            "overflow_x": null,
            "overflow_y": null,
            "padding": null,
            "right": null,
            "top": null,
            "visibility": null,
            "width": null
          }
        },
        "4076ae62110243a5918f98a832a4c605": {
          "model_module": "@jupyter-widgets/controls",
          "model_name": "ProgressStyleModel",
          "model_module_version": "1.5.0",
          "state": {
            "_model_module": "@jupyter-widgets/controls",
            "_model_module_version": "1.5.0",
            "_model_name": "ProgressStyleModel",
            "_view_count": null,
            "_view_module": "@jupyter-widgets/base",
            "_view_module_version": "1.2.0",
            "_view_name": "StyleView",
            "bar_color": null,
            "description_width": ""
          }
        },
        "132d16a0e1b8468f8554ca9863f349d7": {
          "model_module": "@jupyter-widgets/base",
          "model_name": "LayoutModel",
          "model_module_version": "1.2.0",
          "state": {
            "_model_module": "@jupyter-widgets/base",
            "_model_module_version": "1.2.0",
            "_model_name": "LayoutModel",
            "_view_count": null,
            "_view_module": "@jupyter-widgets/base",
            "_view_module_version": "1.2.0",
            "_view_name": "LayoutView",
            "align_content": null,
            "align_items": null,
            "align_self": null,
            "border": null,
            "bottom": null,
            "display": null,
            "flex": null,
            "flex_flow": null,
            "grid_area": null,
            "grid_auto_columns": null,
            "grid_auto_flow": null,
            "grid_auto_rows": null,
            "grid_column": null,
            "grid_gap": null,
            "grid_row": null,
            "grid_template_areas": null,
            "grid_template_columns": null,
            "grid_template_rows": null,
            "height": null,
            "justify_content": null,
            "justify_items": null,
            "left": null,
            "margin": null,
            "max_height": null,
            "max_width": null,
            "min_height": null,
            "min_width": null,
            "object_fit": null,
            "object_position": null,
            "order": null,
            "overflow": null,
            "overflow_x": null,
            "overflow_y": null,
            "padding": null,
            "right": null,
            "top": null,
            "visibility": null,
            "width": null
          }
        },
        "ce9fc1454b66426694faee398bf29920": {
          "model_module": "@jupyter-widgets/controls",
          "model_name": "DescriptionStyleModel",
          "model_module_version": "1.5.0",
          "state": {
            "_model_module": "@jupyter-widgets/controls",
            "_model_module_version": "1.5.0",
            "_model_name": "DescriptionStyleModel",
            "_view_count": null,
            "_view_module": "@jupyter-widgets/base",
            "_view_module_version": "1.2.0",
            "_view_name": "StyleView",
            "description_width": ""
          }
        },
        "0f15437480dd4bb785b5bb6620759282": {
          "model_module": "@jupyter-widgets/controls",
          "model_name": "HBoxModel",
          "model_module_version": "1.5.0",
          "state": {
            "_dom_classes": [],
            "_model_module": "@jupyter-widgets/controls",
            "_model_module_version": "1.5.0",
            "_model_name": "HBoxModel",
            "_view_count": null,
            "_view_module": "@jupyter-widgets/controls",
            "_view_module_version": "1.5.0",
            "_view_name": "HBoxView",
            "box_style": "",
            "children": [
              "IPY_MODEL_07d0eff7f55e469eb7ed017373701ced",
              "IPY_MODEL_6305436e855d4f24bfce2d8a7b067c15",
              "IPY_MODEL_075331f6b6044afaaf22fec562247468"
            ],
            "layout": "IPY_MODEL_6053c7d5a6d34e698a79d5d73a8ae9a4"
          }
        },
        "07d0eff7f55e469eb7ed017373701ced": {
          "model_module": "@jupyter-widgets/controls",
          "model_name": "HTMLModel",
          "model_module_version": "1.5.0",
          "state": {
            "_dom_classes": [],
            "_model_module": "@jupyter-widgets/controls",
            "_model_module_version": "1.5.0",
            "_model_name": "HTMLModel",
            "_view_count": null,
            "_view_module": "@jupyter-widgets/controls",
            "_view_module_version": "1.5.0",
            "_view_name": "HTMLView",
            "description": "",
            "description_tooltip": null,
            "layout": "IPY_MODEL_ae67c1d24498476981f1f5d0e9200c50",
            "placeholder": "​",
            "style": "IPY_MODEL_13c8e646d3164dff943b0b21adfb5289",
            "value": "vocab.txt: 100%"
          }
        },
        "6305436e855d4f24bfce2d8a7b067c15": {
          "model_module": "@jupyter-widgets/controls",
          "model_name": "FloatProgressModel",
          "model_module_version": "1.5.0",
          "state": {
            "_dom_classes": [],
            "_model_module": "@jupyter-widgets/controls",
            "_model_module_version": "1.5.0",
            "_model_name": "FloatProgressModel",
            "_view_count": null,
            "_view_module": "@jupyter-widgets/controls",
            "_view_module_version": "1.5.0",
            "_view_name": "ProgressView",
            "bar_style": "success",
            "description": "",
            "description_tooltip": null,
            "layout": "IPY_MODEL_16d32c2ec5e6484898f488f81615e940",
            "max": 231508,
            "min": 0,
            "orientation": "horizontal",
            "style": "IPY_MODEL_ca0f91a2d7a74fa4baa0b462d80f48c8",
            "value": 231508
          }
        },
        "075331f6b6044afaaf22fec562247468": {
          "model_module": "@jupyter-widgets/controls",
          "model_name": "HTMLModel",
          "model_module_version": "1.5.0",
          "state": {
            "_dom_classes": [],
            "_model_module": "@jupyter-widgets/controls",
            "_model_module_version": "1.5.0",
            "_model_name": "HTMLModel",
            "_view_count": null,
            "_view_module": "@jupyter-widgets/controls",
            "_view_module_version": "1.5.0",
            "_view_name": "HTMLView",
            "description": "",
            "description_tooltip": null,
            "layout": "IPY_MODEL_941db172cc3a4f338f258f18451b2d8a",
            "placeholder": "​",
            "style": "IPY_MODEL_08baaa8780144410bd7ad7ec5e2d453c",
            "value": " 232k/232k [00:00&lt;00:00, 3.98MB/s]"
          }
        },
        "6053c7d5a6d34e698a79d5d73a8ae9a4": {
          "model_module": "@jupyter-widgets/base",
          "model_name": "LayoutModel",
          "model_module_version": "1.2.0",
          "state": {
            "_model_module": "@jupyter-widgets/base",
            "_model_module_version": "1.2.0",
            "_model_name": "LayoutModel",
            "_view_count": null,
            "_view_module": "@jupyter-widgets/base",
            "_view_module_version": "1.2.0",
            "_view_name": "LayoutView",
            "align_content": null,
            "align_items": null,
            "align_self": null,
            "border": null,
            "bottom": null,
            "display": null,
            "flex": null,
            "flex_flow": null,
            "grid_area": null,
            "grid_auto_columns": null,
            "grid_auto_flow": null,
            "grid_auto_rows": null,
            "grid_column": null,
            "grid_gap": null,
            "grid_row": null,
            "grid_template_areas": null,
            "grid_template_columns": null,
            "grid_template_rows": null,
            "height": null,
            "justify_content": null,
            "justify_items": null,
            "left": null,
            "margin": null,
            "max_height": null,
            "max_width": null,
            "min_height": null,
            "min_width": null,
            "object_fit": null,
            "object_position": null,
            "order": null,
            "overflow": null,
            "overflow_x": null,
            "overflow_y": null,
            "padding": null,
            "right": null,
            "top": null,
            "visibility": null,
            "width": null
          }
        },
        "ae67c1d24498476981f1f5d0e9200c50": {
          "model_module": "@jupyter-widgets/base",
          "model_name": "LayoutModel",
          "model_module_version": "1.2.0",
          "state": {
            "_model_module": "@jupyter-widgets/base",
            "_model_module_version": "1.2.0",
            "_model_name": "LayoutModel",
            "_view_count": null,
            "_view_module": "@jupyter-widgets/base",
            "_view_module_version": "1.2.0",
            "_view_name": "LayoutView",
            "align_content": null,
            "align_items": null,
            "align_self": null,
            "border": null,
            "bottom": null,
            "display": null,
            "flex": null,
            "flex_flow": null,
            "grid_area": null,
            "grid_auto_columns": null,
            "grid_auto_flow": null,
            "grid_auto_rows": null,
            "grid_column": null,
            "grid_gap": null,
            "grid_row": null,
            "grid_template_areas": null,
            "grid_template_columns": null,
            "grid_template_rows": null,
            "height": null,
            "justify_content": null,
            "justify_items": null,
            "left": null,
            "margin": null,
            "max_height": null,
            "max_width": null,
            "min_height": null,
            "min_width": null,
            "object_fit": null,
            "object_position": null,
            "order": null,
            "overflow": null,
            "overflow_x": null,
            "overflow_y": null,
            "padding": null,
            "right": null,
            "top": null,
            "visibility": null,
            "width": null
          }
        },
        "13c8e646d3164dff943b0b21adfb5289": {
          "model_module": "@jupyter-widgets/controls",
          "model_name": "DescriptionStyleModel",
          "model_module_version": "1.5.0",
          "state": {
            "_model_module": "@jupyter-widgets/controls",
            "_model_module_version": "1.5.0",
            "_model_name": "DescriptionStyleModel",
            "_view_count": null,
            "_view_module": "@jupyter-widgets/base",
            "_view_module_version": "1.2.0",
            "_view_name": "StyleView",
            "description_width": ""
          }
        },
        "16d32c2ec5e6484898f488f81615e940": {
          "model_module": "@jupyter-widgets/base",
          "model_name": "LayoutModel",
          "model_module_version": "1.2.0",
          "state": {
            "_model_module": "@jupyter-widgets/base",
            "_model_module_version": "1.2.0",
            "_model_name": "LayoutModel",
            "_view_count": null,
            "_view_module": "@jupyter-widgets/base",
            "_view_module_version": "1.2.0",
            "_view_name": "LayoutView",
            "align_content": null,
            "align_items": null,
            "align_self": null,
            "border": null,
            "bottom": null,
            "display": null,
            "flex": null,
            "flex_flow": null,
            "grid_area": null,
            "grid_auto_columns": null,
            "grid_auto_flow": null,
            "grid_auto_rows": null,
            "grid_column": null,
            "grid_gap": null,
            "grid_row": null,
            "grid_template_areas": null,
            "grid_template_columns": null,
            "grid_template_rows": null,
            "height": null,
            "justify_content": null,
            "justify_items": null,
            "left": null,
            "margin": null,
            "max_height": null,
            "max_width": null,
            "min_height": null,
            "min_width": null,
            "object_fit": null,
            "object_position": null,
            "order": null,
            "overflow": null,
            "overflow_x": null,
            "overflow_y": null,
            "padding": null,
            "right": null,
            "top": null,
            "visibility": null,
            "width": null
          }
        },
        "ca0f91a2d7a74fa4baa0b462d80f48c8": {
          "model_module": "@jupyter-widgets/controls",
          "model_name": "ProgressStyleModel",
          "model_module_version": "1.5.0",
          "state": {
            "_model_module": "@jupyter-widgets/controls",
            "_model_module_version": "1.5.0",
            "_model_name": "ProgressStyleModel",
            "_view_count": null,
            "_view_module": "@jupyter-widgets/base",
            "_view_module_version": "1.2.0",
            "_view_name": "StyleView",
            "bar_color": null,
            "description_width": ""
          }
        },
        "941db172cc3a4f338f258f18451b2d8a": {
          "model_module": "@jupyter-widgets/base",
          "model_name": "LayoutModel",
          "model_module_version": "1.2.0",
          "state": {
            "_model_module": "@jupyter-widgets/base",
            "_model_module_version": "1.2.0",
            "_model_name": "LayoutModel",
            "_view_count": null,
            "_view_module": "@jupyter-widgets/base",
            "_view_module_version": "1.2.0",
            "_view_name": "LayoutView",
            "align_content": null,
            "align_items": null,
            "align_self": null,
            "border": null,
            "bottom": null,
            "display": null,
            "flex": null,
            "flex_flow": null,
            "grid_area": null,
            "grid_auto_columns": null,
            "grid_auto_flow": null,
            "grid_auto_rows": null,
            "grid_column": null,
            "grid_gap": null,
            "grid_row": null,
            "grid_template_areas": null,
            "grid_template_columns": null,
            "grid_template_rows": null,
            "height": null,
            "justify_content": null,
            "justify_items": null,
            "left": null,
            "margin": null,
            "max_height": null,
            "max_width": null,
            "min_height": null,
            "min_width": null,
            "object_fit": null,
            "object_position": null,
            "order": null,
            "overflow": null,
            "overflow_x": null,
            "overflow_y": null,
            "padding": null,
            "right": null,
            "top": null,
            "visibility": null,
            "width": null
          }
        },
        "08baaa8780144410bd7ad7ec5e2d453c": {
          "model_module": "@jupyter-widgets/controls",
          "model_name": "DescriptionStyleModel",
          "model_module_version": "1.5.0",
          "state": {
            "_model_module": "@jupyter-widgets/controls",
            "_model_module_version": "1.5.0",
            "_model_name": "DescriptionStyleModel",
            "_view_count": null,
            "_view_module": "@jupyter-widgets/base",
            "_view_module_version": "1.2.0",
            "_view_name": "StyleView",
            "description_width": ""
          }
        },
        "9b0249c29efc4861b5236cf71c953c0a": {
          "model_module": "@jupyter-widgets/controls",
          "model_name": "HBoxModel",
          "model_module_version": "1.5.0",
          "state": {
            "_dom_classes": [],
            "_model_module": "@jupyter-widgets/controls",
            "_model_module_version": "1.5.0",
            "_model_name": "HBoxModel",
            "_view_count": null,
            "_view_module": "@jupyter-widgets/controls",
            "_view_module_version": "1.5.0",
            "_view_name": "HBoxView",
            "box_style": "",
            "children": [
              "IPY_MODEL_59a4f638452b4494b4c57ea2842e2acf",
              "IPY_MODEL_a46d371b28fa416391d4773bddf89a80",
              "IPY_MODEL_72602b69c4184b34aaeed0c123fd971f"
            ],
            "layout": "IPY_MODEL_707e710574fe4775926808d7df6fb70b"
          }
        },
        "59a4f638452b4494b4c57ea2842e2acf": {
          "model_module": "@jupyter-widgets/controls",
          "model_name": "HTMLModel",
          "model_module_version": "1.5.0",
          "state": {
            "_dom_classes": [],
            "_model_module": "@jupyter-widgets/controls",
            "_model_module_version": "1.5.0",
            "_model_name": "HTMLModel",
            "_view_count": null,
            "_view_module": "@jupyter-widgets/controls",
            "_view_module_version": "1.5.0",
            "_view_name": "HTMLView",
            "description": "",
            "description_tooltip": null,
            "layout": "IPY_MODEL_afd74c4dfd24473db942442e121d6c27",
            "placeholder": "​",
            "style": "IPY_MODEL_36504d28e8874c8cb6ceac845652eefd",
            "value": "tokenizer.json: 100%"
          }
        },
        "a46d371b28fa416391d4773bddf89a80": {
          "model_module": "@jupyter-widgets/controls",
          "model_name": "FloatProgressModel",
          "model_module_version": "1.5.0",
          "state": {
            "_dom_classes": [],
            "_model_module": "@jupyter-widgets/controls",
            "_model_module_version": "1.5.0",
            "_model_name": "FloatProgressModel",
            "_view_count": null,
            "_view_module": "@jupyter-widgets/controls",
            "_view_module_version": "1.5.0",
            "_view_name": "ProgressView",
            "bar_style": "success",
            "description": "",
            "description_tooltip": null,
            "layout": "IPY_MODEL_5ebac69942ef4c80bb2bd59c55569002",
            "max": 466062,
            "min": 0,
            "orientation": "horizontal",
            "style": "IPY_MODEL_eee5078e924d4657a8083e107d619cdc",
            "value": 466062
          }
        },
        "72602b69c4184b34aaeed0c123fd971f": {
          "model_module": "@jupyter-widgets/controls",
          "model_name": "HTMLModel",
          "model_module_version": "1.5.0",
          "state": {
            "_dom_classes": [],
            "_model_module": "@jupyter-widgets/controls",
            "_model_module_version": "1.5.0",
            "_model_name": "HTMLModel",
            "_view_count": null,
            "_view_module": "@jupyter-widgets/controls",
            "_view_module_version": "1.5.0",
            "_view_name": "HTMLView",
            "description": "",
            "description_tooltip": null,
            "layout": "IPY_MODEL_e26804fad2984f2fb5a83ce46131c35b",
            "placeholder": "​",
            "style": "IPY_MODEL_93bc0770f4a54080b49de5f8995db6b0",
            "value": " 466k/466k [00:00&lt;00:00, 11.5MB/s]"
          }
        },
        "707e710574fe4775926808d7df6fb70b": {
          "model_module": "@jupyter-widgets/base",
          "model_name": "LayoutModel",
          "model_module_version": "1.2.0",
          "state": {
            "_model_module": "@jupyter-widgets/base",
            "_model_module_version": "1.2.0",
            "_model_name": "LayoutModel",
            "_view_count": null,
            "_view_module": "@jupyter-widgets/base",
            "_view_module_version": "1.2.0",
            "_view_name": "LayoutView",
            "align_content": null,
            "align_items": null,
            "align_self": null,
            "border": null,
            "bottom": null,
            "display": null,
            "flex": null,
            "flex_flow": null,
            "grid_area": null,
            "grid_auto_columns": null,
            "grid_auto_flow": null,
            "grid_auto_rows": null,
            "grid_column": null,
            "grid_gap": null,
            "grid_row": null,
            "grid_template_areas": null,
            "grid_template_columns": null,
            "grid_template_rows": null,
            "height": null,
            "justify_content": null,
            "justify_items": null,
            "left": null,
            "margin": null,
            "max_height": null,
            "max_width": null,
            "min_height": null,
            "min_width": null,
            "object_fit": null,
            "object_position": null,
            "order": null,
            "overflow": null,
            "overflow_x": null,
            "overflow_y": null,
            "padding": null,
            "right": null,
            "top": null,
            "visibility": null,
            "width": null
          }
        },
        "afd74c4dfd24473db942442e121d6c27": {
          "model_module": "@jupyter-widgets/base",
          "model_name": "LayoutModel",
          "model_module_version": "1.2.0",
          "state": {
            "_model_module": "@jupyter-widgets/base",
            "_model_module_version": "1.2.0",
            "_model_name": "LayoutModel",
            "_view_count": null,
            "_view_module": "@jupyter-widgets/base",
            "_view_module_version": "1.2.0",
            "_view_name": "LayoutView",
            "align_content": null,
            "align_items": null,
            "align_self": null,
            "border": null,
            "bottom": null,
            "display": null,
            "flex": null,
            "flex_flow": null,
            "grid_area": null,
            "grid_auto_columns": null,
            "grid_auto_flow": null,
            "grid_auto_rows": null,
            "grid_column": null,
            "grid_gap": null,
            "grid_row": null,
            "grid_template_areas": null,
            "grid_template_columns": null,
            "grid_template_rows": null,
            "height": null,
            "justify_content": null,
            "justify_items": null,
            "left": null,
            "margin": null,
            "max_height": null,
            "max_width": null,
            "min_height": null,
            "min_width": null,
            "object_fit": null,
            "object_position": null,
            "order": null,
            "overflow": null,
            "overflow_x": null,
            "overflow_y": null,
            "padding": null,
            "right": null,
            "top": null,
            "visibility": null,
            "width": null
          }
        },
        "36504d28e8874c8cb6ceac845652eefd": {
          "model_module": "@jupyter-widgets/controls",
          "model_name": "DescriptionStyleModel",
          "model_module_version": "1.5.0",
          "state": {
            "_model_module": "@jupyter-widgets/controls",
            "_model_module_version": "1.5.0",
            "_model_name": "DescriptionStyleModel",
            "_view_count": null,
            "_view_module": "@jupyter-widgets/base",
            "_view_module_version": "1.2.0",
            "_view_name": "StyleView",
            "description_width": ""
          }
        },
        "5ebac69942ef4c80bb2bd59c55569002": {
          "model_module": "@jupyter-widgets/base",
          "model_name": "LayoutModel",
          "model_module_version": "1.2.0",
          "state": {
            "_model_module": "@jupyter-widgets/base",
            "_model_module_version": "1.2.0",
            "_model_name": "LayoutModel",
            "_view_count": null,
            "_view_module": "@jupyter-widgets/base",
            "_view_module_version": "1.2.0",
            "_view_name": "LayoutView",
            "align_content": null,
            "align_items": null,
            "align_self": null,
            "border": null,
            "bottom": null,
            "display": null,
            "flex": null,
            "flex_flow": null,
            "grid_area": null,
            "grid_auto_columns": null,
            "grid_auto_flow": null,
            "grid_auto_rows": null,
            "grid_column": null,
            "grid_gap": null,
            "grid_row": null,
            "grid_template_areas": null,
            "grid_template_columns": null,
            "grid_template_rows": null,
            "height": null,
            "justify_content": null,
            "justify_items": null,
            "left": null,
            "margin": null,
            "max_height": null,
            "max_width": null,
            "min_height": null,
            "min_width": null,
            "object_fit": null,
            "object_position": null,
            "order": null,
            "overflow": null,
            "overflow_x": null,
            "overflow_y": null,
            "padding": null,
            "right": null,
            "top": null,
            "visibility": null,
            "width": null
          }
        },
        "eee5078e924d4657a8083e107d619cdc": {
          "model_module": "@jupyter-widgets/controls",
          "model_name": "ProgressStyleModel",
          "model_module_version": "1.5.0",
          "state": {
            "_model_module": "@jupyter-widgets/controls",
            "_model_module_version": "1.5.0",
            "_model_name": "ProgressStyleModel",
            "_view_count": null,
            "_view_module": "@jupyter-widgets/base",
            "_view_module_version": "1.2.0",
            "_view_name": "StyleView",
            "bar_color": null,
            "description_width": ""
          }
        },
        "e26804fad2984f2fb5a83ce46131c35b": {
          "model_module": "@jupyter-widgets/base",
          "model_name": "LayoutModel",
          "model_module_version": "1.2.0",
          "state": {
            "_model_module": "@jupyter-widgets/base",
            "_model_module_version": "1.2.0",
            "_model_name": "LayoutModel",
            "_view_count": null,
            "_view_module": "@jupyter-widgets/base",
            "_view_module_version": "1.2.0",
            "_view_name": "LayoutView",
            "align_content": null,
            "align_items": null,
            "align_self": null,
            "border": null,
            "bottom": null,
            "display": null,
            "flex": null,
            "flex_flow": null,
            "grid_area": null,
            "grid_auto_columns": null,
            "grid_auto_flow": null,
            "grid_auto_rows": null,
            "grid_column": null,
            "grid_gap": null,
            "grid_row": null,
            "grid_template_areas": null,
            "grid_template_columns": null,
            "grid_template_rows": null,
            "height": null,
            "justify_content": null,
            "justify_items": null,
            "left": null,
            "margin": null,
            "max_height": null,
            "max_width": null,
            "min_height": null,
            "min_width": null,
            "object_fit": null,
            "object_position": null,
            "order": null,
            "overflow": null,
            "overflow_x": null,
            "overflow_y": null,
            "padding": null,
            "right": null,
            "top": null,
            "visibility": null,
            "width": null
          }
        },
        "93bc0770f4a54080b49de5f8995db6b0": {
          "model_module": "@jupyter-widgets/controls",
          "model_name": "DescriptionStyleModel",
          "model_module_version": "1.5.0",
          "state": {
            "_model_module": "@jupyter-widgets/controls",
            "_model_module_version": "1.5.0",
            "_model_name": "DescriptionStyleModel",
            "_view_count": null,
            "_view_module": "@jupyter-widgets/base",
            "_view_module_version": "1.2.0",
            "_view_name": "StyleView",
            "description_width": ""
          }
        },
        "8fdbf0e2cf384e76b5f92487ddef5ff8": {
          "model_module": "@jupyter-widgets/controls",
          "model_name": "HBoxModel",
          "model_module_version": "1.5.0",
          "state": {
            "_dom_classes": [],
            "_model_module": "@jupyter-widgets/controls",
            "_model_module_version": "1.5.0",
            "_model_name": "HBoxModel",
            "_view_count": null,
            "_view_module": "@jupyter-widgets/controls",
            "_view_module_version": "1.5.0",
            "_view_name": "HBoxView",
            "box_style": "",
            "children": [
              "IPY_MODEL_da7787410aac4d6e8efd497ae76edb9b",
              "IPY_MODEL_5d2019a837f143349b99af296ec66a21",
              "IPY_MODEL_dc0b4bf42b0245238699c0c54e096787"
            ],
            "layout": "IPY_MODEL_7e5f53697c8e4615b78ed608c0427b4e"
          }
        },
        "da7787410aac4d6e8efd497ae76edb9b": {
          "model_module": "@jupyter-widgets/controls",
          "model_name": "HTMLModel",
          "model_module_version": "1.5.0",
          "state": {
            "_dom_classes": [],
            "_model_module": "@jupyter-widgets/controls",
            "_model_module_version": "1.5.0",
            "_model_name": "HTMLModel",
            "_view_count": null,
            "_view_module": "@jupyter-widgets/controls",
            "_view_module_version": "1.5.0",
            "_view_name": "HTMLView",
            "description": "",
            "description_tooltip": null,
            "layout": "IPY_MODEL_4ec1538b606041a9a427823cc505e3c9",
            "placeholder": "​",
            "style": "IPY_MODEL_79675a77ac3a48a9b8e94622bb5c0af5",
            "value": "config.json: 100%"
          }
        },
        "5d2019a837f143349b99af296ec66a21": {
          "model_module": "@jupyter-widgets/controls",
          "model_name": "FloatProgressModel",
          "model_module_version": "1.5.0",
          "state": {
            "_dom_classes": [],
            "_model_module": "@jupyter-widgets/controls",
            "_model_module_version": "1.5.0",
            "_model_name": "FloatProgressModel",
            "_view_count": null,
            "_view_module": "@jupyter-widgets/controls",
            "_view_module_version": "1.5.0",
            "_view_name": "ProgressView",
            "bar_style": "success",
            "description": "",
            "description_tooltip": null,
            "layout": "IPY_MODEL_9d69e83ca99d4b88bfd0b3e39dbcb78e",
            "max": 570,
            "min": 0,
            "orientation": "horizontal",
            "style": "IPY_MODEL_b50a4da8b22048b9bfd6781b19f8ad2b",
            "value": 570
          }
        },
        "dc0b4bf42b0245238699c0c54e096787": {
          "model_module": "@jupyter-widgets/controls",
          "model_name": "HTMLModel",
          "model_module_version": "1.5.0",
          "state": {
            "_dom_classes": [],
            "_model_module": "@jupyter-widgets/controls",
            "_model_module_version": "1.5.0",
            "_model_name": "HTMLModel",
            "_view_count": null,
            "_view_module": "@jupyter-widgets/controls",
            "_view_module_version": "1.5.0",
            "_view_name": "HTMLView",
            "description": "",
            "description_tooltip": null,
            "layout": "IPY_MODEL_d56bcc17a8ef4fb49c383f7c96ac9265",
            "placeholder": "​",
            "style": "IPY_MODEL_418d8a512e0f408db6384c82bda23110",
            "value": " 570/570 [00:00&lt;00:00, 52.6kB/s]"
          }
        },
        "7e5f53697c8e4615b78ed608c0427b4e": {
          "model_module": "@jupyter-widgets/base",
          "model_name": "LayoutModel",
          "model_module_version": "1.2.0",
          "state": {
            "_model_module": "@jupyter-widgets/base",
            "_model_module_version": "1.2.0",
            "_model_name": "LayoutModel",
            "_view_count": null,
            "_view_module": "@jupyter-widgets/base",
            "_view_module_version": "1.2.0",
            "_view_name": "LayoutView",
            "align_content": null,
            "align_items": null,
            "align_self": null,
            "border": null,
            "bottom": null,
            "display": null,
            "flex": null,
            "flex_flow": null,
            "grid_area": null,
            "grid_auto_columns": null,
            "grid_auto_flow": null,
            "grid_auto_rows": null,
            "grid_column": null,
            "grid_gap": null,
            "grid_row": null,
            "grid_template_areas": null,
            "grid_template_columns": null,
            "grid_template_rows": null,
            "height": null,
            "justify_content": null,
            "justify_items": null,
            "left": null,
            "margin": null,
            "max_height": null,
            "max_width": null,
            "min_height": null,
            "min_width": null,
            "object_fit": null,
            "object_position": null,
            "order": null,
            "overflow": null,
            "overflow_x": null,
            "overflow_y": null,
            "padding": null,
            "right": null,
            "top": null,
            "visibility": null,
            "width": null
          }
        },
        "4ec1538b606041a9a427823cc505e3c9": {
          "model_module": "@jupyter-widgets/base",
          "model_name": "LayoutModel",
          "model_module_version": "1.2.0",
          "state": {
            "_model_module": "@jupyter-widgets/base",
            "_model_module_version": "1.2.0",
            "_model_name": "LayoutModel",
            "_view_count": null,
            "_view_module": "@jupyter-widgets/base",
            "_view_module_version": "1.2.0",
            "_view_name": "LayoutView",
            "align_content": null,
            "align_items": null,
            "align_self": null,
            "border": null,
            "bottom": null,
            "display": null,
            "flex": null,
            "flex_flow": null,
            "grid_area": null,
            "grid_auto_columns": null,
            "grid_auto_flow": null,
            "grid_auto_rows": null,
            "grid_column": null,
            "grid_gap": null,
            "grid_row": null,
            "grid_template_areas": null,
            "grid_template_columns": null,
            "grid_template_rows": null,
            "height": null,
            "justify_content": null,
            "justify_items": null,
            "left": null,
            "margin": null,
            "max_height": null,
            "max_width": null,
            "min_height": null,
            "min_width": null,
            "object_fit": null,
            "object_position": null,
            "order": null,
            "overflow": null,
            "overflow_x": null,
            "overflow_y": null,
            "padding": null,
            "right": null,
            "top": null,
            "visibility": null,
            "width": null
          }
        },
        "79675a77ac3a48a9b8e94622bb5c0af5": {
          "model_module": "@jupyter-widgets/controls",
          "model_name": "DescriptionStyleModel",
          "model_module_version": "1.5.0",
          "state": {
            "_model_module": "@jupyter-widgets/controls",
            "_model_module_version": "1.5.0",
            "_model_name": "DescriptionStyleModel",
            "_view_count": null,
            "_view_module": "@jupyter-widgets/base",
            "_view_module_version": "1.2.0",
            "_view_name": "StyleView",
            "description_width": ""
          }
        },
        "9d69e83ca99d4b88bfd0b3e39dbcb78e": {
          "model_module": "@jupyter-widgets/base",
          "model_name": "LayoutModel",
          "model_module_version": "1.2.0",
          "state": {
            "_model_module": "@jupyter-widgets/base",
            "_model_module_version": "1.2.0",
            "_model_name": "LayoutModel",
            "_view_count": null,
            "_view_module": "@jupyter-widgets/base",
            "_view_module_version": "1.2.0",
            "_view_name": "LayoutView",
            "align_content": null,
            "align_items": null,
            "align_self": null,
            "border": null,
            "bottom": null,
            "display": null,
            "flex": null,
            "flex_flow": null,
            "grid_area": null,
            "grid_auto_columns": null,
            "grid_auto_flow": null,
            "grid_auto_rows": null,
            "grid_column": null,
            "grid_gap": null,
            "grid_row": null,
            "grid_template_areas": null,
            "grid_template_columns": null,
            "grid_template_rows": null,
            "height": null,
            "justify_content": null,
            "justify_items": null,
            "left": null,
            "margin": null,
            "max_height": null,
            "max_width": null,
            "min_height": null,
            "min_width": null,
            "object_fit": null,
            "object_position": null,
            "order": null,
            "overflow": null,
            "overflow_x": null,
            "overflow_y": null,
            "padding": null,
            "right": null,
            "top": null,
            "visibility": null,
            "width": null
          }
        },
        "b50a4da8b22048b9bfd6781b19f8ad2b": {
          "model_module": "@jupyter-widgets/controls",
          "model_name": "ProgressStyleModel",
          "model_module_version": "1.5.0",
          "state": {
            "_model_module": "@jupyter-widgets/controls",
            "_model_module_version": "1.5.0",
            "_model_name": "ProgressStyleModel",
            "_view_count": null,
            "_view_module": "@jupyter-widgets/base",
            "_view_module_version": "1.2.0",
            "_view_name": "StyleView",
            "bar_color": null,
            "description_width": ""
          }
        },
        "d56bcc17a8ef4fb49c383f7c96ac9265": {
          "model_module": "@jupyter-widgets/base",
          "model_name": "LayoutModel",
          "model_module_version": "1.2.0",
          "state": {
            "_model_module": "@jupyter-widgets/base",
            "_model_module_version": "1.2.0",
            "_model_name": "LayoutModel",
            "_view_count": null,
            "_view_module": "@jupyter-widgets/base",
            "_view_module_version": "1.2.0",
            "_view_name": "LayoutView",
            "align_content": null,
            "align_items": null,
            "align_self": null,
            "border": null,
            "bottom": null,
            "display": null,
            "flex": null,
            "flex_flow": null,
            "grid_area": null,
            "grid_auto_columns": null,
            "grid_auto_flow": null,
            "grid_auto_rows": null,
            "grid_column": null,
            "grid_gap": null,
            "grid_row": null,
            "grid_template_areas": null,
            "grid_template_columns": null,
            "grid_template_rows": null,
            "height": null,
            "justify_content": null,
            "justify_items": null,
            "left": null,
            "margin": null,
            "max_height": null,
            "max_width": null,
            "min_height": null,
            "min_width": null,
            "object_fit": null,
            "object_position": null,
            "order": null,
            "overflow": null,
            "overflow_x": null,
            "overflow_y": null,
            "padding": null,
            "right": null,
            "top": null,
            "visibility": null,
            "width": null
          }
        },
        "418d8a512e0f408db6384c82bda23110": {
          "model_module": "@jupyter-widgets/controls",
          "model_name": "DescriptionStyleModel",
          "model_module_version": "1.5.0",
          "state": {
            "_model_module": "@jupyter-widgets/controls",
            "_model_module_version": "1.5.0",
            "_model_name": "DescriptionStyleModel",
            "_view_count": null,
            "_view_module": "@jupyter-widgets/base",
            "_view_module_version": "1.2.0",
            "_view_name": "StyleView",
            "description_width": ""
          }
        },
        "4dc6d8f88e6e4e098d220aecc30e269e": {
          "model_module": "@jupyter-widgets/controls",
          "model_name": "HBoxModel",
          "model_module_version": "1.5.0",
          "state": {
            "_dom_classes": [],
            "_model_module": "@jupyter-widgets/controls",
            "_model_module_version": "1.5.0",
            "_model_name": "HBoxModel",
            "_view_count": null,
            "_view_module": "@jupyter-widgets/controls",
            "_view_module_version": "1.5.0",
            "_view_name": "HBoxView",
            "box_style": "",
            "children": [
              "IPY_MODEL_78ea17aed11c44b19a9b0e520d0ff0fa",
              "IPY_MODEL_984a902dca9f46039541edb2df8f6126",
              "IPY_MODEL_26e266b5a91f4fe0a87b001e9b5e4626"
            ],
            "layout": "IPY_MODEL_b9f84f0fa6c74aad820191f12badac55"
          }
        },
        "78ea17aed11c44b19a9b0e520d0ff0fa": {
          "model_module": "@jupyter-widgets/controls",
          "model_name": "HTMLModel",
          "model_module_version": "1.5.0",
          "state": {
            "_dom_classes": [],
            "_model_module": "@jupyter-widgets/controls",
            "_model_module_version": "1.5.0",
            "_model_name": "HTMLModel",
            "_view_count": null,
            "_view_module": "@jupyter-widgets/controls",
            "_view_module_version": "1.5.0",
            "_view_name": "HTMLView",
            "description": "",
            "description_tooltip": null,
            "layout": "IPY_MODEL_da099a9109d54f15a704c39bdffc4cf3",
            "placeholder": "​",
            "style": "IPY_MODEL_518e30844e1f49959df5c2728719a57a",
            "value": "model.safetensors: 100%"
          }
        },
        "984a902dca9f46039541edb2df8f6126": {
          "model_module": "@jupyter-widgets/controls",
          "model_name": "FloatProgressModel",
          "model_module_version": "1.5.0",
          "state": {
            "_dom_classes": [],
            "_model_module": "@jupyter-widgets/controls",
            "_model_module_version": "1.5.0",
            "_model_name": "FloatProgressModel",
            "_view_count": null,
            "_view_module": "@jupyter-widgets/controls",
            "_view_module_version": "1.5.0",
            "_view_name": "ProgressView",
            "bar_style": "success",
            "description": "",
            "description_tooltip": null,
            "layout": "IPY_MODEL_c206a2e9b4284b05b2f74bc58f002cb4",
            "max": 440449768,
            "min": 0,
            "orientation": "horizontal",
            "style": "IPY_MODEL_e2be4ade34d346f78cdcbcfb6cc7c69e",
            "value": 440449768
          }
        },
        "26e266b5a91f4fe0a87b001e9b5e4626": {
          "model_module": "@jupyter-widgets/controls",
          "model_name": "HTMLModel",
          "model_module_version": "1.5.0",
          "state": {
            "_dom_classes": [],
            "_model_module": "@jupyter-widgets/controls",
            "_model_module_version": "1.5.0",
            "_model_name": "HTMLModel",
            "_view_count": null,
            "_view_module": "@jupyter-widgets/controls",
            "_view_module_version": "1.5.0",
            "_view_name": "HTMLView",
            "description": "",
            "description_tooltip": null,
            "layout": "IPY_MODEL_c2f07023450a41bf86e9662d3ffa8245",
            "placeholder": "​",
            "style": "IPY_MODEL_b611c81342f04dc8bb705ea3f41a59ec",
            "value": " 440M/440M [00:02&lt;00:00, 205MB/s]"
          }
        },
        "b9f84f0fa6c74aad820191f12badac55": {
          "model_module": "@jupyter-widgets/base",
          "model_name": "LayoutModel",
          "model_module_version": "1.2.0",
          "state": {
            "_model_module": "@jupyter-widgets/base",
            "_model_module_version": "1.2.0",
            "_model_name": "LayoutModel",
            "_view_count": null,
            "_view_module": "@jupyter-widgets/base",
            "_view_module_version": "1.2.0",
            "_view_name": "LayoutView",
            "align_content": null,
            "align_items": null,
            "align_self": null,
            "border": null,
            "bottom": null,
            "display": null,
            "flex": null,
            "flex_flow": null,
            "grid_area": null,
            "grid_auto_columns": null,
            "grid_auto_flow": null,
            "grid_auto_rows": null,
            "grid_column": null,
            "grid_gap": null,
            "grid_row": null,
            "grid_template_areas": null,
            "grid_template_columns": null,
            "grid_template_rows": null,
            "height": null,
            "justify_content": null,
            "justify_items": null,
            "left": null,
            "margin": null,
            "max_height": null,
            "max_width": null,
            "min_height": null,
            "min_width": null,
            "object_fit": null,
            "object_position": null,
            "order": null,
            "overflow": null,
            "overflow_x": null,
            "overflow_y": null,
            "padding": null,
            "right": null,
            "top": null,
            "visibility": null,
            "width": null
          }
        },
        "da099a9109d54f15a704c39bdffc4cf3": {
          "model_module": "@jupyter-widgets/base",
          "model_name": "LayoutModel",
          "model_module_version": "1.2.0",
          "state": {
            "_model_module": "@jupyter-widgets/base",
            "_model_module_version": "1.2.0",
            "_model_name": "LayoutModel",
            "_view_count": null,
            "_view_module": "@jupyter-widgets/base",
            "_view_module_version": "1.2.0",
            "_view_name": "LayoutView",
            "align_content": null,
            "align_items": null,
            "align_self": null,
            "border": null,
            "bottom": null,
            "display": null,
            "flex": null,
            "flex_flow": null,
            "grid_area": null,
            "grid_auto_columns": null,
            "grid_auto_flow": null,
            "grid_auto_rows": null,
            "grid_column": null,
            "grid_gap": null,
            "grid_row": null,
            "grid_template_areas": null,
            "grid_template_columns": null,
            "grid_template_rows": null,
            "height": null,
            "justify_content": null,
            "justify_items": null,
            "left": null,
            "margin": null,
            "max_height": null,
            "max_width": null,
            "min_height": null,
            "min_width": null,
            "object_fit": null,
            "object_position": null,
            "order": null,
            "overflow": null,
            "overflow_x": null,
            "overflow_y": null,
            "padding": null,
            "right": null,
            "top": null,
            "visibility": null,
            "width": null
          }
        },
        "518e30844e1f49959df5c2728719a57a": {
          "model_module": "@jupyter-widgets/controls",
          "model_name": "DescriptionStyleModel",
          "model_module_version": "1.5.0",
          "state": {
            "_model_module": "@jupyter-widgets/controls",
            "_model_module_version": "1.5.0",
            "_model_name": "DescriptionStyleModel",
            "_view_count": null,
            "_view_module": "@jupyter-widgets/base",
            "_view_module_version": "1.2.0",
            "_view_name": "StyleView",
            "description_width": ""
          }
        },
        "c206a2e9b4284b05b2f74bc58f002cb4": {
          "model_module": "@jupyter-widgets/base",
          "model_name": "LayoutModel",
          "model_module_version": "1.2.0",
          "state": {
            "_model_module": "@jupyter-widgets/base",
            "_model_module_version": "1.2.0",
            "_model_name": "LayoutModel",
            "_view_count": null,
            "_view_module": "@jupyter-widgets/base",
            "_view_module_version": "1.2.0",
            "_view_name": "LayoutView",
            "align_content": null,
            "align_items": null,
            "align_self": null,
            "border": null,
            "bottom": null,
            "display": null,
            "flex": null,
            "flex_flow": null,
            "grid_area": null,
            "grid_auto_columns": null,
            "grid_auto_flow": null,
            "grid_auto_rows": null,
            "grid_column": null,
            "grid_gap": null,
            "grid_row": null,
            "grid_template_areas": null,
            "grid_template_columns": null,
            "grid_template_rows": null,
            "height": null,
            "justify_content": null,
            "justify_items": null,
            "left": null,
            "margin": null,
            "max_height": null,
            "max_width": null,
            "min_height": null,
            "min_width": null,
            "object_fit": null,
            "object_position": null,
            "order": null,
            "overflow": null,
            "overflow_x": null,
            "overflow_y": null,
            "padding": null,
            "right": null,
            "top": null,
            "visibility": null,
            "width": null
          }
        },
        "e2be4ade34d346f78cdcbcfb6cc7c69e": {
          "model_module": "@jupyter-widgets/controls",
          "model_name": "ProgressStyleModel",
          "model_module_version": "1.5.0",
          "state": {
            "_model_module": "@jupyter-widgets/controls",
            "_model_module_version": "1.5.0",
            "_model_name": "ProgressStyleModel",
            "_view_count": null,
            "_view_module": "@jupyter-widgets/base",
            "_view_module_version": "1.2.0",
            "_view_name": "StyleView",
            "bar_color": null,
            "description_width": ""
          }
        },
        "c2f07023450a41bf86e9662d3ffa8245": {
          "model_module": "@jupyter-widgets/base",
          "model_name": "LayoutModel",
          "model_module_version": "1.2.0",
          "state": {
            "_model_module": "@jupyter-widgets/base",
            "_model_module_version": "1.2.0",
            "_model_name": "LayoutModel",
            "_view_count": null,
            "_view_module": "@jupyter-widgets/base",
            "_view_module_version": "1.2.0",
            "_view_name": "LayoutView",
            "align_content": null,
            "align_items": null,
            "align_self": null,
            "border": null,
            "bottom": null,
            "display": null,
            "flex": null,
            "flex_flow": null,
            "grid_area": null,
            "grid_auto_columns": null,
            "grid_auto_flow": null,
            "grid_auto_rows": null,
            "grid_column": null,
            "grid_gap": null,
            "grid_row": null,
            "grid_template_areas": null,
            "grid_template_columns": null,
            "grid_template_rows": null,
            "height": null,
            "justify_content": null,
            "justify_items": null,
            "left": null,
            "margin": null,
            "max_height": null,
            "max_width": null,
            "min_height": null,
            "min_width": null,
            "object_fit": null,
            "object_position": null,
            "order": null,
            "overflow": null,
            "overflow_x": null,
            "overflow_y": null,
            "padding": null,
            "right": null,
            "top": null,
            "visibility": null,
            "width": null
          }
        },
        "b611c81342f04dc8bb705ea3f41a59ec": {
          "model_module": "@jupyter-widgets/controls",
          "model_name": "DescriptionStyleModel",
          "model_module_version": "1.5.0",
          "state": {
            "_model_module": "@jupyter-widgets/controls",
            "_model_module_version": "1.5.0",
            "_model_name": "DescriptionStyleModel",
            "_view_count": null,
            "_view_module": "@jupyter-widgets/base",
            "_view_module_version": "1.2.0",
            "_view_name": "StyleView",
            "description_width": ""
          }
        }
      }
    }
  },
  "cells": [
    {
      "cell_type": "code",
      "source": [
        "from google.colab import drive\n",
        "drive.mount('/content/drive')"
      ],
      "metadata": {
        "colab": {
          "base_uri": "https://localhost:8080/"
        },
        "id": "mXDn1Zh7K_-s",
        "outputId": "0fb9a8b4-ae4a-4294-e783-0696daec6848"
      },
      "execution_count": 1,
      "outputs": [
        {
          "output_type": "stream",
          "name": "stdout",
          "text": [
            "Mounted at /content/drive\n"
          ]
        }
      ]
    },
    {
      "cell_type": "markdown",
      "source": [
        "## Requirement  \n",
        "- `Final_Code_Data.csv` is the labeled data for training\n",
        "- `GPT4_label_211Sample.csv` saved the result for GPT4 Chain-of-Thought (CoT) model"
      ],
      "metadata": {
        "id": "Q-zPJO7lc8hP"
      }
    },
    {
      "cell_type": "markdown",
      "source": [
        "### Import Library"
      ],
      "metadata": {
        "id": "Y8-U9ugsojyx"
      }
    },
    {
      "cell_type": "code",
      "execution_count": 2,
      "metadata": {
        "id": "An0SOSjrKonZ"
      },
      "outputs": [],
      "source": [
        "import re\n",
        "import pandas as pd\n",
        "import numpy as np\n",
        "import matplotlib.pyplot as plt\n",
        "import seaborn as sns\n",
        "import torch\n",
        "import torch.nn as nn\n",
        "from torch.utils.data import Dataset, DataLoader\n",
        "from tqdm import tqdm\n",
        "from collections import Counter\n",
        "from sklearn.metrics import confusion_matrix, accuracy_score\n",
        "from torch.utils.data import Dataset, DataLoader\n",
        "from sklearn.preprocessing import StandardScaler\n",
        "from sklearn.linear_model import LogisticRegression\n",
        "from sklearn.metrics import classification_report\n",
        "from sklearn.model_selection import train_test_split\n",
        "from sklearn.feature_extraction.text import TfidfVectorizer\n",
        "from sklearn.metrics.pairwise import cosine_distances\n",
        "from transformers import BertTokenizer, BertModel\n",
        "from sklearn.decomposition import PCA"
      ]
    },
    {
      "cell_type": "code",
      "source": [
        "device = torch.device(\"cuda\" if torch.cuda.is_available() else \"cpu\")\n",
        "print(\"Running on {}\".format(device))"
      ],
      "metadata": {
        "colab": {
          "base_uri": "https://localhost:8080/"
        },
        "id": "XT0iJOFDHMU4",
        "outputId": "8c601400-e6bf-4a26-97c6-9dd545c522eb"
      },
      "execution_count": 3,
      "outputs": [
        {
          "output_type": "stream",
          "name": "stdout",
          "text": [
            "Running on cuda\n"
          ]
        }
      ]
    },
    {
      "cell_type": "markdown",
      "source": [
        "### Read the Final Data"
      ],
      "metadata": {
        "id": "ya8_bgh3A2rF"
      }
    },
    {
      "cell_type": "code",
      "source": [
        "# Change this to the location of your data\n",
        "# df = pd.read_csv('/content/drive/MyDrive/Colab Notebooks/Info256/Final_Code_Data.csv')\n",
        "df = pd.read_csv('/content/drive/MyDrive/Colab Notebooks/Info256 Project/Final_Code_Data.csv')\n",
        "\n",
        "# Preprocessing to encode the technology labels\n",
        "titles = df[\"title\"].tolist()\n",
        "descriptions = df[\"description\"].tolist()\n",
        "extract_tokens = df[\"512 tokens\"].tolist()\n",
        "labels = df[\"technology\"].tolist()"
      ],
      "metadata": {
        "id": "wzR8c-6AYEva"
      },
      "execution_count": 4,
      "outputs": []
    },
    {
      "cell_type": "markdown",
      "source": [
        "## Majority Baseline\n",
        "\n",
        "- Results:\n",
        "  - **Training Accuracy: 36.19%**"
      ],
      "metadata": {
        "id": "WbF0-dYyaibS"
      }
    },
    {
      "cell_type": "code",
      "source": [
        "# Map labels to numerical values\n",
        "unique_labels = sorted(set(labels))\n",
        "label_map = {label: i for i, label in enumerate(unique_labels)}\n",
        "labels = [label_map[label] for label in labels]\n",
        "\n",
        "label_counts = {}\n",
        "for label, idx in label_map.items():\n",
        "    count = labels.count(idx)\n",
        "    label_counts[label] = count\n",
        "    print(f\"{label}: {count} samples\")\n",
        "\n",
        "# Calculate the proportion of the most common label\n",
        "most_common_count = max(label_counts.values())\n",
        "total_count = len(labels)\n",
        "proportion_most_common = most_common_count / total_count\n",
        "\n",
        "print(f\"\\nProportion of the most common label: {proportion_most_common:.4f}\")"
      ],
      "metadata": {
        "colab": {
          "base_uri": "https://localhost:8080/"
        },
        "id": "e-xDJB_2ZazL",
        "outputId": "3dd39b8a-7902-4e82-8e81-a03b2e4729a1"
      },
      "execution_count": 5,
      "outputs": [
        {
          "output_type": "stream",
          "name": "stdout",
          "text": [
            "AI / ML: 50 samples\n",
            "API: 10 samples\n",
            "Cloud: 28 samples\n",
            "Data: 49 samples\n",
            "Non-PM: 231 samples\n",
            "Other type of PM: 283 samples\n",
            "Payments: 57 samples\n",
            "Platform: 62 samples\n",
            "Trust & Safety: 12 samples\n",
            "\n",
            "Proportion of the most common label: 0.3619\n"
          ]
        }
      ]
    },
    {
      "cell_type": "markdown",
      "source": [
        "## BERT for text classification\n",
        "\n",
        "### Configuration:\n",
        "- **BERT Settings**:\n",
        "  - `batch_size = 16`\n",
        "  - `max_length = 512` (maximum token length for each input)\n",
        "  - `learning_rate = 2e-5`\n",
        "  - `num_epochs = 7`\n",
        "  - `best_val_model`"
      ],
      "metadata": {
        "id": "PFh23HjTauJk"
      }
    },
    {
      "cell_type": "markdown",
      "source": [
        "### BERT Model Set Up"
      ],
      "metadata": {
        "id": "j-9T0iP1mMy4"
      }
    },
    {
      "cell_type": "code",
      "source": [
        "class TextDataset(Dataset):\n",
        "    \"\"\"Custom Dataset for text classification with titles and descriptions\"\"\"\n",
        "    def __init__(self, titles, descriptions, labels, tokenizer, max_length=512):\n",
        "        self.titles = titles\n",
        "        self.descriptions = descriptions\n",
        "        self.labels = labels\n",
        "        self.tokenizer = tokenizer\n",
        "        self.max_length = max_length\n",
        "\n",
        "    def __len__(self):\n",
        "        return len(self.titles)\n",
        "\n",
        "    def __getitem__(self, idx):\n",
        "        title = str(self.titles[idx])\n",
        "        description = str(self.descriptions[idx])\n",
        "        text = f\"{title} {description}\"\n",
        "\n",
        "        encoding = self.tokenizer(\n",
        "            text,\n",
        "            padding='max_length',\n",
        "            truncation=True,\n",
        "            max_length=self.max_length,\n",
        "            return_tensors='pt'\n",
        "        )\n",
        "\n",
        "        return {\n",
        "            'input_ids': encoding['input_ids'].squeeze(),\n",
        "            'attention_mask': encoding['attention_mask'].squeeze(),\n",
        "            'token_type_ids': encoding['token_type_ids'].squeeze(),\n",
        "            'labels': torch.tensor(self.labels[idx], dtype=torch.long)\n",
        "        }\n",
        "\n",
        "class BERTClassifier(nn.Module):\n",
        "    def __init__(self, num_classes, model_name='bert-base-uncased', dropout=0.1):\n",
        "        super().__init__()\n",
        "        self.bert = BertModel.from_pretrained(model_name)\n",
        "        self.dropout = nn.Dropout(dropout)\n",
        "        self.fc = nn.Linear(self.bert.config.hidden_size, num_classes)\n",
        "\n",
        "    def forward(self, input_ids, attention_mask, token_type_ids):\n",
        "        outputs = self.bert(\n",
        "            input_ids=input_ids,\n",
        "            attention_mask=attention_mask,\n",
        "            token_type_ids=token_type_ids\n",
        "        )\n",
        "\n",
        "        # Get CLS token representation\n",
        "        pooled_output = outputs.last_hidden_state[:, 0, :]\n",
        "        pooled_output = self.dropout(pooled_output)\n",
        "        logits = self.fc(pooled_output)\n",
        "        return logits\n",
        "\n",
        "def get_predictions(model, val_loader, device):\n",
        "    \"\"\"Get predictions from the model\"\"\"\n",
        "    model.eval()\n",
        "    all_preds = []\n",
        "    all_labels = []\n",
        "\n",
        "    with torch.no_grad():\n",
        "        for batch in val_loader:\n",
        "            input_ids = batch['input_ids'].to(device)\n",
        "            attention_mask = batch['attention_mask'].to(device)\n",
        "            token_type_ids = batch['token_type_ids'].to(device)\n",
        "            labels = batch['labels'].to(device)\n",
        "\n",
        "            outputs = model(input_ids, attention_mask, token_type_ids)\n",
        "            _, predicted = torch.max(outputs, 1)\n",
        "\n",
        "            all_preds.extend(predicted.cpu().numpy())\n",
        "            all_labels.extend(labels.cpu().numpy())\n",
        "\n",
        "    return np.array(all_labels), np.array(all_preds)\n",
        "\n",
        "def plot_confusion_matrix(y_true, y_pred, label_map, method=None, figsize=(12, 8)):\n",
        "    \"\"\"Plot confusion matrix with custom labels\"\"\"\n",
        "    # Compute confusion matrix\n",
        "    cm = confusion_matrix(y_true, y_pred)\n",
        "\n",
        "    title = f'Confusion Matrix {method}' if method else 'Confusion Matrix'\n",
        "\n",
        "    # Get unique labels present in the data\n",
        "    present_labels = sorted(set(y_true))\n",
        "    label_names = [list(label_map.keys())[i] for i in present_labels]\n",
        "\n",
        "    # Create figure and axes\n",
        "    plt.figure(figsize=figsize)\n",
        "\n",
        "    # Create heatmap\n",
        "    sns.heatmap(cm,\n",
        "                annot=True,\n",
        "                fmt='d',\n",
        "                cmap='Blues',\n",
        "                xticklabels=label_names,\n",
        "                yticklabels=label_names)\n",
        "\n",
        "    # Customize the plot\n",
        "    plt.title(title, pad=20)\n",
        "    plt.ylabel('True Label')\n",
        "    plt.xlabel('Predicted Label')\n",
        "\n",
        "    # Rotate labels for better readability\n",
        "    plt.xticks(rotation=45, ha='right')\n",
        "    plt.yticks(rotation=0)\n",
        "\n",
        "    # Adjust layout to prevent label cutoff\n",
        "    plt.tight_layout()\n",
        "\n",
        "    return plt\n",
        "\n",
        "# Function to evaluate and plot confusion matrix\n",
        "def evaluate_and_plot(model, val_loader, label_map, device):\n",
        "    \"\"\"Evaluate model and plot confusion matrix\"\"\"\n",
        "    # Get predictions\n",
        "    y_true, y_pred = get_predictions(model, val_loader, device)\n",
        "\n",
        "    # Plot confusion matrix\n",
        "    plot = plot_confusion_matrix(y_true, y_pred, label_map, method='BERT')\n",
        "    plt.show()\n",
        "\n",
        "    # Print classification report\n",
        "    print(\"\\nClassification Report:\")\n",
        "    present_labels = sorted(set(y_true))\n",
        "    label_names = [list(label_map.keys())[i] for i in present_labels]\n",
        "    print(classification_report(y_true, y_pred,\n",
        "                              labels=present_labels,\n",
        "                              target_names=label_names,\n",
        "                              digits=3))\n",
        "\n",
        "def train_bert_classifier(train_titles, train_descriptions, train_labels,\n",
        "                         val_titles, val_descriptions, val_labels,\n",
        "                         num_classes, batch_size=16, num_epochs=5,\n",
        "                         learning_rate=2e-5, max_length=512,\n",
        "                         model_name='bert-base-uncased'):\n",
        "    \"\"\"\n",
        "    Train BERT classifier end-to-end\n",
        "    \"\"\"\n",
        "    # Initialize tokenizer\n",
        "    tokenizer = BertTokenizer.from_pretrained(model_name)\n",
        "\n",
        "    # Create datasets\n",
        "    train_dataset = TextDataset(train_titles, train_descriptions, train_labels,\n",
        "                               tokenizer, max_length)\n",
        "    val_dataset = TextDataset(val_titles, val_descriptions, val_labels,\n",
        "                             tokenizer, max_length)\n",
        "\n",
        "    # Create dataloaders\n",
        "    train_loader = DataLoader(train_dataset, batch_size=batch_size, shuffle=True)\n",
        "    val_loader = DataLoader(val_dataset, batch_size=batch_size)\n",
        "\n",
        "    # Initialize model\n",
        "    device = torch.device('cuda' if torch.cuda.is_available() else 'cpu')\n",
        "    model = BERTClassifier(num_classes=num_classes, model_name=model_name)\n",
        "    model.to(device)\n",
        "\n",
        "    # Initialize optimizer and loss function\n",
        "    optimizer = torch.optim.AdamW(model.parameters(), lr=learning_rate)\n",
        "    criterion = nn.CrossEntropyLoss()\n",
        "\n",
        "    # Training loop\n",
        "    best_val_acc = 0\n",
        "    for epoch in range(num_epochs):\n",
        "        model.train()\n",
        "        train_loss = 0\n",
        "        train_correct = 0\n",
        "        train_total = 0\n",
        "\n",
        "        # Training\n",
        "        for batch in tqdm(train_loader, desc=f'Epoch {epoch + 1}/{num_epochs}'):\n",
        "            input_ids = batch['input_ids'].to(device)\n",
        "            attention_mask = batch['attention_mask'].to(device)\n",
        "            token_type_ids = batch['token_type_ids'].to(device)\n",
        "            labels = batch['labels'].to(device)\n",
        "\n",
        "            optimizer.zero_grad()\n",
        "            outputs = model(input_ids, attention_mask, token_type_ids)\n",
        "            loss = criterion(outputs, labels)\n",
        "            loss.backward()\n",
        "            optimizer.step()\n",
        "\n",
        "            train_loss += loss.item()\n",
        "            _, predicted = torch.max(outputs, 1)\n",
        "            train_total += labels.size(0)\n",
        "            train_correct += (predicted == labels).sum().item()\n",
        "\n",
        "        # Validation\n",
        "        model.eval()\n",
        "        val_correct = 0\n",
        "        val_total = 0\n",
        "        val_loss = 0\n",
        "\n",
        "        with torch.no_grad():\n",
        "            for batch in val_loader:\n",
        "                input_ids = batch['input_ids'].to(device)\n",
        "                attention_mask = batch['attention_mask'].to(device)\n",
        "                token_type_ids = batch['token_type_ids'].to(device)\n",
        "                labels = batch['labels'].to(device)\n",
        "\n",
        "                outputs = model(input_ids, attention_mask, token_type_ids)\n",
        "                # Calculate loss\n",
        "                loss = criterion(outputs, labels)\n",
        "                val_loss += loss.item()\n",
        "\n",
        "                _, predicted = torch.max(outputs, 1)\n",
        "                val_total += labels.size(0)\n",
        "                val_correct += (predicted == labels).sum().item()\n",
        "\n",
        "        train_acc = train_correct / train_total\n",
        "        val_acc = val_correct / val_total\n",
        "\n",
        "        print(f'Epoch {epoch + 1}:')\n",
        "        print(f'Train Loss: {train_loss/len(train_loader):.4f}')\n",
        "        print(f'Train Accuracy: {train_acc:.4f}')\n",
        "        print(f'Validation Loss: {val_loss/len(val_loader):.4f}')\n",
        "        print(f'Validation Accuracy: {val_acc:.4f}')\n",
        "\n",
        "        if val_acc > best_val_acc:\n",
        "            best_val_acc = val_acc\n",
        "            torch.save(model.state_dict(), 'best_bert_classifier.pt')\n",
        "\n",
        "    # Load best model and evaluate\n",
        "    model.load_state_dict(torch.load('best_bert_classifier.pt'))\n",
        "    print(\"\\nEvaluating best model:\")\n",
        "    evaluate_and_plot(model, val_loader, label_map, device)\n",
        "\n",
        "    return model"
      ],
      "metadata": {
        "id": "Z-wPmYKMLGgX"
      },
      "execution_count": 6,
      "outputs": []
    },
    {
      "cell_type": "markdown",
      "source": [
        "### Sample Misclassfication Method"
      ],
      "metadata": {
        "id": "Dih9bWycE8F9"
      }
    },
    {
      "cell_type": "code",
      "source": [
        "def display_misclassifications(model, val_titles, val_descriptions, val_labels,\n",
        "                             label_map, batch_size=16, max_length=512,\n",
        "                             model_name='bert-base-uncased', num_examples=3):\n",
        "    \"\"\"\n",
        "    Display detailed misclassification examples from the BERT model predictions\n",
        "\n",
        "    Args:\n",
        "        model: Trained BERT model\n",
        "        val_titles: List of validation titles\n",
        "        val_descriptions: List of validation descriptions\n",
        "        val_labels: List of validation labels\n",
        "        label_map: Dictionary mapping label names to indices\n",
        "        batch_size: Batch size for validation (default=16)\n",
        "        max_length: Maximum sequence length (default=512)\n",
        "        model_name: Name of the BERT model (default='bert-base-uncased')\n",
        "        num_examples: Number of misclassification examples to show (default=10)\n",
        "    \"\"\"\n",
        "    # Set device\n",
        "    device = torch.device(\"cuda\" if torch.cuda.is_available() else \"cpu\")\n",
        "    model = model.to(device)\n",
        "\n",
        "    # Initialize tokenizer\n",
        "    tokenizer = BertTokenizer.from_pretrained(model_name)\n",
        "\n",
        "    # Create validation dataset\n",
        "    val_dataset = TextDataset(val_titles, val_descriptions, val_labels,\n",
        "                             tokenizer, max_length)\n",
        "\n",
        "    # Create validation dataloader\n",
        "    val_loader = DataLoader(val_dataset, batch_size=batch_size)\n",
        "\n",
        "    # Get reverse label map for converting indices to label names\n",
        "    rev_label_map = {i: label for label, i in label_map.items()}\n",
        "\n",
        "    model.eval()\n",
        "    misclassifications = []\n",
        "\n",
        "    with torch.no_grad():\n",
        "        for batch in val_loader:\n",
        "            input_ids = batch['input_ids'].to(device)\n",
        "            attention_mask = batch['attention_mask'].to(device)\n",
        "            token_type_ids = batch['token_type_ids'].to(device)\n",
        "            labels = batch['labels'].to(device)\n",
        "\n",
        "            # Get original texts\n",
        "            original_texts = []\n",
        "            for i in range(len(input_ids)):\n",
        "                title = val_titles[i]\n",
        "                desc = val_descriptions[i]\n",
        "                original_texts.append(f\"{title} {desc}\")\n",
        "\n",
        "            outputs = model(input_ids, attention_mask, token_type_ids)\n",
        "            _, predicted = torch.max(outputs, 1)\n",
        "\n",
        "            # Find misclassifications in this batch\n",
        "            for text, pred, true_label in zip(original_texts, predicted, labels):\n",
        "                if pred != true_label:\n",
        "                    misclassifications.append({\n",
        "                        'text': text,\n",
        "                        'predicted': rev_label_map[pred.item()],\n",
        "                        'actual': rev_label_map[true_label.item()]\n",
        "                    })\n",
        "\n",
        "    # Print misclassification examples\n",
        "    print(\"\\n=== BERT Model Misclassifications ===\\n\")\n",
        "\n",
        "    for i, misc in enumerate(misclassifications[:num_examples], 1):\n",
        "        print(f\"Example {i}:\")\n",
        "        print(f\"Predicted: {misc['predicted']}\")\n",
        "        print(f\"Actual: {misc['actual']}\")\n",
        "        print(f\"Title + Description: {misc['text']}\")\n",
        "        print(\"-\" * 50 + \"\\n\")\n",
        "\n",
        "    # Print summary statistics\n",
        "    total_misclassifications = len(misclassifications)\n",
        "    print(f\"\\nTotal misclassifications found: {total_misclassifications}\")\n",
        "\n",
        "    # Group misclassifications by actual vs predicted\n",
        "    confusion_pairs = Counter(\n",
        "        (misc['actual'], misc['predicted'])\n",
        "        for misc in misclassifications\n",
        "    )\n",
        "\n",
        "    print(\"\\nMost common misclassification patterns:\")\n",
        "    for (actual, predicted), count in confusion_pairs.most_common(5):\n",
        "        print(f\"{actual} → {predicted}: {count} instances\")\n"
      ],
      "metadata": {
        "id": "3Sn8JlPnERyJ"
      },
      "execution_count": 11,
      "outputs": []
    },
    {
      "cell_type": "markdown",
      "source": [
        "### Confidence Interval Method"
      ],
      "metadata": {
        "id": "J3P7B__2gUV_"
      }
    },
    {
      "cell_type": "code",
      "source": [
        "def create_validation_loader(val_titles, val_descriptions, val_labels, tokenizer, batch_size=16, max_length=512):\n",
        "    \"\"\"\n",
        "    Create validation DataLoader from raw validation data\n",
        "    \"\"\"\n",
        "    val_dataset = TextDataset(val_titles, val_descriptions, val_labels,\n",
        "                             tokenizer, max_length)\n",
        "    return DataLoader(val_dataset, batch_size=batch_size)\n",
        "\n",
        "def bootstrap_confidence_interval(model, val_titles, val_descriptions, val_labels, device,\n",
        "                                model_name='bert-base-uncased', n_iterations=1000,\n",
        "                                confidence_level=0.95, batch_size=16):\n",
        "    \"\"\"\n",
        "    Calculate confidence interval for model accuracy using bootstrap sampling.\n",
        "    \"\"\"\n",
        "    # Initialize tokenizer\n",
        "    tokenizer = BertTokenizer.from_pretrained(model_name)\n",
        "\n",
        "    # Create validation loader with all data\n",
        "    val_loader = create_validation_loader(val_titles, val_descriptions, val_labels,\n",
        "                                        tokenizer, batch_size)\n",
        "\n",
        "    # Get all predictions and true labels\n",
        "    model.eval()\n",
        "    all_preds = []\n",
        "    all_labels = []\n",
        "\n",
        "    with torch.no_grad():\n",
        "        for batch in val_loader:\n",
        "            input_ids = batch['input_ids'].to(device)\n",
        "            attention_mask = batch['attention_mask'].to(device)\n",
        "            token_type_ids = batch['token_type_ids'].to(device)\n",
        "            labels = batch['labels'].to(device)\n",
        "\n",
        "            outputs = model(input_ids, attention_mask, token_type_ids)\n",
        "            _, predicted = torch.max(outputs, 1)\n",
        "\n",
        "            all_preds.extend(predicted.cpu().numpy())\n",
        "            all_labels.extend(labels.cpu().numpy())\n",
        "\n",
        "    all_preds = np.array(all_preds)\n",
        "    all_labels = np.array(all_labels)\n",
        "\n",
        "    # Calculate original accuracy\n",
        "    original_accuracy = accuracy_score(all_labels, all_preds)\n",
        "\n",
        "    # Perform bootstrap sampling\n",
        "    bootstrap_accuracies = []\n",
        "    n_samples = len(all_labels)\n",
        "\n",
        "    for _ in tqdm(range(n_iterations), desc=\"Bootstrap Sampling\"):\n",
        "        indices = np.random.choice(n_samples, size=n_samples, replace=True)\n",
        "        sample_true = all_labels[indices]\n",
        "        sample_pred = all_preds[indices]\n",
        "        accuracy = accuracy_score(sample_true, sample_pred)\n",
        "        bootstrap_accuracies.append(accuracy)\n",
        "\n",
        "    # Calculate confidence interval\n",
        "    alpha = 1 - confidence_level\n",
        "    lower_percentile = alpha / 2 * 100\n",
        "    upper_percentile = (1 - alpha / 2) * 100\n",
        "\n",
        "    lower_bound = np.percentile(bootstrap_accuracies, lower_percentile)\n",
        "    upper_bound = np.percentile(bootstrap_accuracies, upper_percentile)\n",
        "\n",
        "    return original_accuracy, lower_bound, upper_bound, bootstrap_accuracies\n",
        "\n",
        "def plot_bootstrap_distribution(bootstrap_accuracies, original_accuracy, lower_bound, upper_bound):\n",
        "    \"\"\"\n",
        "    Plot the distribution of bootstrap accuracy samples with confidence interval.\n",
        "    \"\"\"\n",
        "    plt.figure(figsize=(10, 6))\n",
        "    plt.hist(bootstrap_accuracies, bins=50, density=True, alpha=0.7, color='skyblue')\n",
        "    plt.axvline(original_accuracy, color='red', linestyle='--', label='Original Accuracy')\n",
        "    plt.axvline(lower_bound, color='green', linestyle='--', label='Lower Bound')\n",
        "    plt.axvline(upper_bound, color='green', linestyle='--', label='Upper Bound')\n",
        "\n",
        "    plt.title('Bootstrap Distribution of Accuracy')\n",
        "    plt.xlabel('Accuracy')\n",
        "    plt.ylabel('Density')\n",
        "    plt.legend()\n",
        "    plt.grid(True, alpha=0.3)\n",
        "\n",
        "    plt.show()\n",
        "\n",
        "def analyze_model_confidence(model, val_titles, val_descriptions, val_labels, device,\n",
        "                           n_iterations=1000, confidence_level=0.95, batch_size=16):\n",
        "    \"\"\"\n",
        "    Perform complete confidence interval analysis for the model.\n",
        "    \"\"\"\n",
        "    print(f\"\\nPerforming bootstrap analysis with {n_iterations} iterations...\")\n",
        "\n",
        "    # Get confidence interval and bootstrap accuracies\n",
        "    original_accuracy, lower_bound, upper_bound, bootstrap_accuracies = bootstrap_confidence_interval(\n",
        "        model=model,\n",
        "        val_titles=val_titles,\n",
        "        val_descriptions=val_descriptions,\n",
        "        val_labels=val_labels,\n",
        "        device=device,\n",
        "        n_iterations=n_iterations,\n",
        "        confidence_level=confidence_level,\n",
        "        batch_size=batch_size\n",
        "    )\n",
        "\n",
        "    # Print results\n",
        "    print(f\"\\nConfidence Interval Analysis Results ({confidence_level*100}% CI):\")\n",
        "    print(f\"Original Accuracy: {original_accuracy:.4f}\")\n",
        "    print(f\"Confidence Interval: [{lower_bound:.4f}, {upper_bound:.4f}]\")\n",
        "    print(f\"Interval Width: {upper_bound - lower_bound:.4f}\")\n",
        "\n",
        "    # Plot the distribution\n",
        "    plot_bootstrap_distribution(bootstrap_accuracies, original_accuracy, lower_bound, upper_bound)\n",
        "\n",
        "    return original_accuracy, lower_bound, upper_bound, bootstrap_accuracies"
      ],
      "metadata": {
        "id": "zDA65BxOgXE_"
      },
      "execution_count": 12,
      "outputs": []
    },
    {
      "cell_type": "markdown",
      "source": [
        "### Model 1 - BERT with Whole Job Description (Truncated)\n",
        "\n",
        "- Results:\n",
        "  - Training Accuracy: 85.81%\n",
        "  - Dev Accuracy: 61.78%\n",
        "  - 95% Confidence Interval: `[0.5478, 0.6881]`"
      ],
      "metadata": {
        "id": "7GMRrARuke1S"
      }
    },
    {
      "cell_type": "code",
      "source": [
        "# Split the data into 80% train and 20% validation sets\n",
        "X_train_BERT, X_val_BERT, y_train_BERT, y_val_BERT = train_test_split(\n",
        "    list(zip(titles, descriptions)), labels,\n",
        "    test_size=0.2,\n",
        "    random_state=256,\n",
        "    stratify=labels  # Ensure balanced split\n",
        ")\n",
        "\n",
        "# Unzip the training and validation data\n",
        "train_titles, train_descriptions = zip(*X_train_BERT)\n",
        "val_titles, val_descriptions = zip(*X_val_BERT)"
      ],
      "metadata": {
        "id": "__Cmft1pETQf"
      },
      "execution_count": 7,
      "outputs": []
    },
    {
      "cell_type": "code",
      "source": [
        "# Assuming you have your data split into train and validation sets\n",
        "num_classes = len(set(labels))  # Number of unique labels\n",
        "\n",
        "model = train_bert_classifier(\n",
        "    train_titles=train_titles,\n",
        "    train_descriptions=train_descriptions,\n",
        "    train_labels=y_train_BERT,\n",
        "    val_titles=val_titles,\n",
        "    val_descriptions=val_descriptions,\n",
        "    val_labels=y_val_BERT,\n",
        "    num_classes=num_classes,\n",
        "    batch_size=16,  # Adjust based on your GPU memory\n",
        "    num_epochs=7,\n",
        "    learning_rate=2e-5,\n",
        "    max_length=512\n",
        ")"
      ],
      "metadata": {
        "colab": {
          "base_uri": "https://localhost:8080/",
          "height": 1000,
          "referenced_widgets": [
            "80e2231d0d764a159ef5509d42b6c59c",
            "c5b2ac1038d7441aa22013205aab2f74",
            "3697f9fd8dfc4bfd9ecee038cd31b8a2",
            "9843b9d3d5cc4955a3adebd4342dd532",
            "667774cbafb5440198cecebf49f3f8d7",
            "4ddc09da304f41329188cf4fd79c13af",
            "2e4950747a9a4d79ac45082ea0896f01",
            "74231b3593714012b6d897e8d29eded0",
            "4076ae62110243a5918f98a832a4c605",
            "132d16a0e1b8468f8554ca9863f349d7",
            "ce9fc1454b66426694faee398bf29920",
            "0f15437480dd4bb785b5bb6620759282",
            "07d0eff7f55e469eb7ed017373701ced",
            "6305436e855d4f24bfce2d8a7b067c15",
            "075331f6b6044afaaf22fec562247468",
            "6053c7d5a6d34e698a79d5d73a8ae9a4",
            "ae67c1d24498476981f1f5d0e9200c50",
            "13c8e646d3164dff943b0b21adfb5289",
            "16d32c2ec5e6484898f488f81615e940",
            "ca0f91a2d7a74fa4baa0b462d80f48c8",
            "941db172cc3a4f338f258f18451b2d8a",
            "08baaa8780144410bd7ad7ec5e2d453c",
            "9b0249c29efc4861b5236cf71c953c0a",
            "59a4f638452b4494b4c57ea2842e2acf",
            "a46d371b28fa416391d4773bddf89a80",
            "72602b69c4184b34aaeed0c123fd971f",
            "707e710574fe4775926808d7df6fb70b",
            "afd74c4dfd24473db942442e121d6c27",
            "36504d28e8874c8cb6ceac845652eefd",
            "5ebac69942ef4c80bb2bd59c55569002",
            "eee5078e924d4657a8083e107d619cdc",
            "e26804fad2984f2fb5a83ce46131c35b",
            "93bc0770f4a54080b49de5f8995db6b0",
            "8fdbf0e2cf384e76b5f92487ddef5ff8",
            "da7787410aac4d6e8efd497ae76edb9b",
            "5d2019a837f143349b99af296ec66a21",
            "dc0b4bf42b0245238699c0c54e096787",
            "7e5f53697c8e4615b78ed608c0427b4e",
            "4ec1538b606041a9a427823cc505e3c9",
            "79675a77ac3a48a9b8e94622bb5c0af5",
            "9d69e83ca99d4b88bfd0b3e39dbcb78e",
            "b50a4da8b22048b9bfd6781b19f8ad2b",
            "d56bcc17a8ef4fb49c383f7c96ac9265",
            "418d8a512e0f408db6384c82bda23110",
            "4dc6d8f88e6e4e098d220aecc30e269e",
            "78ea17aed11c44b19a9b0e520d0ff0fa",
            "984a902dca9f46039541edb2df8f6126",
            "26e266b5a91f4fe0a87b001e9b5e4626",
            "b9f84f0fa6c74aad820191f12badac55",
            "da099a9109d54f15a704c39bdffc4cf3",
            "518e30844e1f49959df5c2728719a57a",
            "c206a2e9b4284b05b2f74bc58f002cb4",
            "e2be4ade34d346f78cdcbcfb6cc7c69e",
            "c2f07023450a41bf86e9662d3ffa8245",
            "b611c81342f04dc8bb705ea3f41a59ec"
          ]
        },
        "id": "CuLnFtnND8d2",
        "outputId": "d9f0365d-9464-40f2-a5d1-fa0f9aceb6a7"
      },
      "execution_count": 8,
      "outputs": [
        {
          "output_type": "stream",
          "name": "stderr",
          "text": [
            "/usr/local/lib/python3.10/dist-packages/huggingface_hub/utils/_auth.py:94: UserWarning: \n",
            "The secret `HF_TOKEN` does not exist in your Colab secrets.\n",
            "To authenticate with the Hugging Face Hub, create a token in your settings tab (https://huggingface.co/settings/tokens), set it as secret in your Google Colab and restart your session.\n",
            "You will be able to reuse this secret in all of your notebooks.\n",
            "Please note that authentication is recommended but still optional to access public models or datasets.\n",
            "  warnings.warn(\n"
          ]
        },
        {
          "output_type": "display_data",
          "data": {
            "text/plain": [
              "tokenizer_config.json:   0%|          | 0.00/48.0 [00:00<?, ?B/s]"
            ],
            "application/vnd.jupyter.widget-view+json": {
              "version_major": 2,
              "version_minor": 0,
              "model_id": "80e2231d0d764a159ef5509d42b6c59c"
            }
          },
          "metadata": {}
        },
        {
          "output_type": "display_data",
          "data": {
            "text/plain": [
              "vocab.txt:   0%|          | 0.00/232k [00:00<?, ?B/s]"
            ],
            "application/vnd.jupyter.widget-view+json": {
              "version_major": 2,
              "version_minor": 0,
              "model_id": "0f15437480dd4bb785b5bb6620759282"
            }
          },
          "metadata": {}
        },
        {
          "output_type": "display_data",
          "data": {
            "text/plain": [
              "tokenizer.json:   0%|          | 0.00/466k [00:00<?, ?B/s]"
            ],
            "application/vnd.jupyter.widget-view+json": {
              "version_major": 2,
              "version_minor": 0,
              "model_id": "9b0249c29efc4861b5236cf71c953c0a"
            }
          },
          "metadata": {}
        },
        {
          "output_type": "display_data",
          "data": {
            "text/plain": [
              "config.json:   0%|          | 0.00/570 [00:00<?, ?B/s]"
            ],
            "application/vnd.jupyter.widget-view+json": {
              "version_major": 2,
              "version_minor": 0,
              "model_id": "8fdbf0e2cf384e76b5f92487ddef5ff8"
            }
          },
          "metadata": {}
        },
        {
          "output_type": "display_data",
          "data": {
            "text/plain": [
              "model.safetensors:   0%|          | 0.00/440M [00:00<?, ?B/s]"
            ],
            "application/vnd.jupyter.widget-view+json": {
              "version_major": 2,
              "version_minor": 0,
              "model_id": "4dc6d8f88e6e4e098d220aecc30e269e"
            }
          },
          "metadata": {}
        },
        {
          "output_type": "stream",
          "name": "stderr",
          "text": [
            "Epoch 1/7: 100%|██████████| 40/40 [00:26<00:00,  1.50it/s]\n"
          ]
        },
        {
          "output_type": "stream",
          "name": "stdout",
          "text": [
            "Epoch 1:\n",
            "Train Loss: 1.7502\n",
            "Train Accuracy: 0.3280\n",
            "Validation Loss: 1.6400\n",
            "Validation Accuracy: 0.4013\n"
          ]
        },
        {
          "output_type": "stream",
          "name": "stderr",
          "text": [
            "Epoch 2/7: 100%|██████████| 40/40 [00:24<00:00,  1.62it/s]\n"
          ]
        },
        {
          "output_type": "stream",
          "name": "stdout",
          "text": [
            "Epoch 2:\n",
            "Train Loss: 1.5570\n",
            "Train Accuracy: 0.4400\n",
            "Validation Loss: 1.4242\n",
            "Validation Accuracy: 0.4968\n"
          ]
        },
        {
          "output_type": "stream",
          "name": "stderr",
          "text": [
            "Epoch 3/7: 100%|██████████| 40/40 [00:24<00:00,  1.63it/s]\n"
          ]
        },
        {
          "output_type": "stream",
          "name": "stdout",
          "text": [
            "Epoch 3:\n",
            "Train Loss: 1.1779\n",
            "Train Accuracy: 0.6144\n",
            "Validation Loss: 1.2195\n",
            "Validation Accuracy: 0.5796\n"
          ]
        },
        {
          "output_type": "stream",
          "name": "stderr",
          "text": [
            "Epoch 4/7: 100%|██████████| 40/40 [00:24<00:00,  1.63it/s]\n"
          ]
        },
        {
          "output_type": "stream",
          "name": "stdout",
          "text": [
            "Epoch 4:\n",
            "Train Loss: 0.8581\n",
            "Train Accuracy: 0.7296\n",
            "Validation Loss: 1.1952\n",
            "Validation Accuracy: 0.6178\n"
          ]
        },
        {
          "output_type": "stream",
          "name": "stderr",
          "text": [
            "Epoch 5/7: 100%|██████████| 40/40 [00:24<00:00,  1.63it/s]\n"
          ]
        },
        {
          "output_type": "stream",
          "name": "stdout",
          "text": [
            "Epoch 5:\n",
            "Train Loss: 0.6052\n",
            "Train Accuracy: 0.8144\n",
            "Validation Loss: 1.2881\n",
            "Validation Accuracy: 0.5732\n"
          ]
        },
        {
          "output_type": "stream",
          "name": "stderr",
          "text": [
            "Epoch 6/7: 100%|██████████| 40/40 [00:24<00:00,  1.63it/s]\n"
          ]
        },
        {
          "output_type": "stream",
          "name": "stdout",
          "text": [
            "Epoch 6:\n",
            "Train Loss: 0.4325\n",
            "Train Accuracy: 0.8688\n",
            "Validation Loss: 1.3299\n",
            "Validation Accuracy: 0.5924\n"
          ]
        },
        {
          "output_type": "stream",
          "name": "stderr",
          "text": [
            "Epoch 7/7: 100%|██████████| 40/40 [00:24<00:00,  1.63it/s]\n"
          ]
        },
        {
          "output_type": "stream",
          "name": "stdout",
          "text": [
            "Epoch 7:\n",
            "Train Loss: 0.2610\n",
            "Train Accuracy: 0.9248\n",
            "Validation Loss: 1.4523\n",
            "Validation Accuracy: 0.5860\n"
          ]
        },
        {
          "output_type": "stream",
          "name": "stderr",
          "text": [
            "<ipython-input-6-c38eeb8c4277>:221: FutureWarning: You are using `torch.load` with `weights_only=False` (the current default value), which uses the default pickle module implicitly. It is possible to construct malicious pickle data which will execute arbitrary code during unpickling (See https://github.com/pytorch/pytorch/blob/main/SECURITY.md#untrusted-models for more details). In a future release, the default value for `weights_only` will be flipped to `True`. This limits the functions that could be executed during unpickling. Arbitrary objects will no longer be allowed to be loaded via this mode unless they are explicitly allowlisted by the user via `torch.serialization.add_safe_globals`. We recommend you start setting `weights_only=True` for any use case where you don't have full control of the loaded file. Please open an issue on GitHub for any issues related to this experimental feature.\n",
            "  model.load_state_dict(torch.load('best_bert_classifier.pt'))\n"
          ]
        },
        {
          "output_type": "stream",
          "name": "stdout",
          "text": [
            "\n",
            "Evaluating best model:\n"
          ]
        },
        {
          "output_type": "display_data",
          "data": {
            "text/plain": [
              "<Figure size 1200x800 with 2 Axes>"
            ],
            "image/png": "[encoded data removed]"
          },
          "metadata": {}
        },
        {
          "output_type": "stream",
          "name": "stdout",
          "text": [
            "\n",
            "Classification Report:\n",
            "                  precision    recall  f1-score   support\n",
            "\n",
            "         AI / ML      0.700     0.700     0.700        10\n",
            "             API      0.000     0.000     0.000         2\n",
            "           Cloud      0.667     0.667     0.667         6\n",
            "            Data      0.556     0.500     0.526        10\n",
            "          Non-PM      0.627     0.696     0.660        46\n",
            "Other type of PM      0.589     0.754     0.662        57\n",
            "        Payments      0.833     0.455     0.588        11\n",
            "        Platform      0.500     0.077     0.133        13\n",
            "  Trust & Safety      0.000     0.000     0.000         2\n",
            "\n",
            "        accuracy                          0.618       157\n",
            "       macro avg      0.497     0.428     0.437       157\n",
            "    weighted avg      0.603     0.618     0.589       157\n",
            "\n"
          ]
        },
        {
          "output_type": "stream",
          "name": "stderr",
          "text": [
            "/usr/local/lib/python3.10/dist-packages/sklearn/metrics/_classification.py:1531: UndefinedMetricWarning: Precision is ill-defined and being set to 0.0 in labels with no predicted samples. Use `zero_division` parameter to control this behavior.\n",
            "  _warn_prf(average, modifier, f\"{metric.capitalize()} is\", len(result))\n",
            "/usr/local/lib/python3.10/dist-packages/sklearn/metrics/_classification.py:1531: UndefinedMetricWarning: Precision is ill-defined and being set to 0.0 in labels with no predicted samples. Use `zero_division` parameter to control this behavior.\n",
            "  _warn_prf(average, modifier, f\"{metric.capitalize()} is\", len(result))\n",
            "/usr/local/lib/python3.10/dist-packages/sklearn/metrics/_classification.py:1531: UndefinedMetricWarning: Precision is ill-defined and being set to 0.0 in labels with no predicted samples. Use `zero_division` parameter to control this behavior.\n",
            "  _warn_prf(average, modifier, f\"{metric.capitalize()} is\", len(result))\n"
          ]
        }
      ]
    },
    {
      "cell_type": "markdown",
      "source": [
        "### Model 1 - Results Analysis"
      ],
      "metadata": {
        "id": "TSR_b3FZgy2o"
      }
    },
    {
      "cell_type": "code",
      "source": [
        "# Assuming you have your model and validation data ready\n",
        "display_misclassifications(\n",
        "    model=model,\n",
        "    val_titles=val_titles,\n",
        "    val_descriptions=val_descriptions,\n",
        "    val_labels=y_val_BERT,\n",
        "    label_map=label_map\n",
        ")"
      ],
      "metadata": {
        "colab": {
          "base_uri": "https://localhost:8080/"
        },
        "id": "KjDAiUnHV2dU",
        "outputId": "4a44a3fd-8f1e-4f82-e3dc-b3414a4c7b46"
      },
      "execution_count": 13,
      "outputs": [
        {
          "output_type": "stream",
          "name": "stdout",
          "text": [
            "\n",
            "=== BERT Model Misclassifications ===\n",
            "\n",
            "Example 1:\n",
            "Predicted: Non-PM\n",
            "Actual: Other type of PM\n",
            "Title + Description: Product Manager (Audio Visual - AV) **Primarily Roles & Responsibilities**\n",
            "\n",
            "* Act as the product evangelist, constantly identifying opportunities via Voice-of-Customer and internal feedback from our sales team to improve the AV portfolio’s performance in support of our business strategy, including new products, product line extensions, product revisions, product retirements, pricing changes, product positioning changes, and marketing/sales programs.\n",
            "* Track and analyze the product portfolio’s performance and profitability versus the targets, inform key stakeholders, and identify actions needed to meet the goals. Create quarterly sales and profitability forecasts for the portfolio.\n",
            "* Research, analyze and monitor the market for customer application needs, market trends, competitive threats and growth opportunities. Develops and manages the execution of a product roadmap.\n",
            "* Provide guidance as product owner for Agile development whether internally or with 3rd parties.\n",
            "* Create a clear, compelling business case for new product ideas including sales and profitability forecast. Develops product positioning to maximize competitive differentiation and customer value.\n",
            "* Develop integrated go to market and introduction plans and schedules. Support needs of marketing, sales, and support including participating in tradeshows, product demonstrations and competitive analysis.\n",
            "* Collaborate with marketing and sales to create marketing messages, product collateral (such as datasheets, white papers, and videos), customer-facing product roadmaps, TCO/ROI tools, etc.\n",
            "* Provide product education to various internal and external stakeholders including sales, sales engineering and tech support.\n",
            "* Plan, communicate and manage the process to retire products from the portfolio including customer transition plans or offerings.\n",
            "Stays current with technologies and trends, and anticipates demand by building relationships with vendors, industry analysts, and engineering.  \n",
            "* \n",
            "\n",
            "**Skills, Knowledge, Abilities**\n",
            "\n",
            "* Self-motivated and driven with a results-driven attitude, market-oriented approach, and a curious mind.\n",
            "* Skilled in the core areas of product management including customer applications and needs analysis, competitive analysis, market analysis, value-based pricing, product strategy, product roadmaps, product definition, product positioning, value propositions, and marketing/sales tools.\n",
            "* Possesses solid business acumen to plan, monitor and analyze the product portfolio’s business performance, pricing and profitability, and to proactively decide on actions to meet the targets.\n",
            "* Ability to build strong internal and external relationships with multiple stakeholders and foster an environment of interaction, collaboration and commitment.\n",
            "* Excellent written, verbal and listening communication with many diverse stakeholders.\n",
            "* Skilled with setting priorities in a dynamic environment and staying focused on what matters most\n",
            "\n",
            "§ Travel is required, up to 20%, primarily in North America with occasional international\n",
            "\n",
            "\n",
            "**Education/Experience Requirements**\n",
            "\n",
            "* Bachelor’s degree in electronics engineering, computer science or a technical field (or equivalent technical experience.)\n",
            "* 5-8 years of product management experience or a combination of MBA degree and product management, marketing, product development or business development experience.\n",
            "* Some experience leading, coordinating and/or managing cross-functional teams in planning, developing or implementing information technology products or systems.\n",
            "\n",
            "**Supervisory Responsibility**\n",
            "\n",
            "None  \n",
            "\n",
            "\n",
            "\n",
            "Black Box is a leading technology solutions provider. Our mission is to accelerate our customers’ business by valuing relationships with our team members, clients and stakeholders. By continuously growing our knowledge, we remain relevant in the market and are in a superior position to help customers design, deploy and manage their IT infrastructure. Through our values, such as innovation, ownership, transparency, respect and open-mindedness, we deliver high-value products and services through our global presence and 3,500+ team members in 24 countries and growing.\n",
            "Black Box is an equal opportunity employer. Black Box does not discriminate against individuals on the basis of race, color, marital status, sex, sexual orientation, gender identity, religion, national origin, age, disability, veteran status, genetic information, or any other protected status, and endorses those policies and practices which seek to recruit, hire, train and promote the most qualified persons into available jobs.\n",
            "#LI-JM1\n",
            "--------------------------------------------------\n",
            "\n",
            "Example 2:\n",
            "Predicted: Other type of PM\n",
            "Actual: Data\n",
            "Title + Description: BI Product, Product Management, Manager, Specialty **Who Are We?**\n",
            "\n",
            "\n",
            "Taking care of our customers, our communities and each other. That’s the Travelers Promise. By honoring this commitment, we have maintained our reputation as one of the best property casualty insurers in the industry for over 160 years. Join us to discover a culture that is rooted in innovation and thrives on collaboration. Imagine loving what you do and where you do it.\n",
            "\n",
            "**Compensation Overview**\n",
            "\n",
            "\n",
            "The annual base salary range provided for this position is a nationwide market range and represents a broad range of salaries for this role across the country. The actual salary for this position will be determined by a number of factors, including the scope, complexity and location of the role; the skills, education, training, credentials and experience of the candidate; and other conditions of employment. As part of our comprehensive compensation and benefits program, employees are also eligible for performance-based cash incentive awards.\n",
            "\n",
            "**Salary Range**\n",
            "\n",
            "\n",
            "$100,600.00 - $165,900.00**Target Openings**\n",
            "\n",
            "\n",
            "1**What Is the Opportunity?**\n",
            "\n",
            "\n",
            "Within the Product team at Travelers, you will have the opportunity to regularly engage in unique and intellectually stimulating business problems. As a Manager, Product Management, you will manage the growth and profitability for a state(s), product, or line of business. You will analyze complex business problems and propose fact-based solutions with consideration of internal and external trends to achieve business objectives. By collaborating and influencing key stakeholders across the organization you will also ensure strategic direction and alignment for successful execution. You will coach and lead cross functional team(s) on growth strategies, products, and objectives.**What Will You Do?**\n",
            "\n",
            "* Lead and guide the data analysis of business results including product refreshes, performance expectations and identifying root cause.\n",
            "* Develop and influence recommendations to drive desired growth & profitability impacts that demonstrate a holistic view of short- and long-term strategy with consideration for local regulatory nuances and broader marketplace dynamics.\n",
            "* Present, inform and influence recommendations to key leadership stakeholders including proposed product/pricing changes or new product builds.\n",
            "* Act as a senior resource in key strategic initiatives to support the goals and objectives of the broader organization.\n",
            "* Manage, coach, and/or guide analysts.\n",
            "* Perform other duties as assigned.\n",
            "\n",
            "**What Will Our Ideal Candidate Have?**\n",
            "\n",
            "* Bachelor’s degree in Business Management/Administration, Mathematics, Finance, Actuarial Science, Economics, or other analytics related field.\n",
            "* Five years’ experience working in a mathematical, analytical, or data related role preferably in the financial services industry.\n",
            "* Experience developing techniques and procedures used to forecast insurance financials.\n",
            "* Has deep understanding of Travelers' business strategy and plan objectives to align with enterprise goals.\n",
            "* Excellent communication skills with the ability to interact and influence management.\n",
            "* Excellent analytical skills with the ability to evaluate and understand current data and systems, find deficiencies/opportunities, recommend changes, and translate into business impacts.\n",
            "* Demonstrated knowledge of pricing and actuarial techniques and understanding of actuarial concepts such as loss development and trending.\n",
            "* Understand the workflow and terminology of insurance products and processes and their impact on profit and loss.\n",
            "\n",
            "**What is a Must Have?**\n",
            "\n",
            "* Bachelor's Degree or equivalent combination of education and experience.\n",
            "* Three years of experience in data analytics or similar work experience.\n",
            "\n",
            "**What Is in It for You?**\n",
            "\n",
            "* **Health Insurance**: Employees and their eligible family members – including spouses, domestic partners, and children – are eligible for coverage from the first day of employment.\n",
            "* **Retirement:** Travelers matches your 401(k) contributions dollar-for-dollar up to your first 5% of eligible pay, subject to an annual maximum. If you have student loan debt, you can enroll in the Paying it Forward Savings Program. When you make a payment toward your student loan, Travelers will make an annual contribution into your 401(k) account. You are also eligible for a Pension Plan that is 100% funded by Travelers.\n",
            "* **Paid Time Off:** Start your career at Travelers with a minimum of 20 days Paid Time Off annually, plus nine paid company Holidays.\n",
            "* **Wellness Program:** The Travelers wellness program is comprised of tools, discounts and resources that empower you to achieve your wellness goals and caregiving needs. In addition, our mental health program provides access to free professional counseling services, health coaching and other resources to support your daily life needs.\n",
            "* **Volunteer Encouragement:** We have a deep commitment to the communities we serve and encourage our employees to get involved. Travelers has a Matching Gift and Volunteer Rewards program that enables you to give back to the charity of your choice.\n",
            "\n",
            "**Employment Practices**\n",
            "\n",
            "\n",
            "Travelers is an equal opportunity employer. We believe that we can deliver the very best products and services when our workforce reflects the diverse customers and communities we serve. We are committed to recruiting, retaining and developing the diverse talent of all of our employees and fostering an inclusive workplace, where we celebrate differences, promote belonging, and work together to deliver extraordinary results.\n",
            "\n",
            "\n",
            "In accordance with local law, candidates seeking employment in Colorado are not required to disclose dates of attendance at or graduation from educational institutions.\n",
            "\n",
            "  \n",
            "\n",
            "If you are a candidate and have specific questions regarding the physical requirements of this role, please send us an email so we may assist you.\n",
            "\n",
            "  \n",
            "\n",
            "Travelers reserves the right to fill this position at a level above or below the level included in this posting.\n",
            "\n",
            "\n",
            "To learn more about our comprehensive benefit programs please visit http://careers.travelers.com/life-at-travelers/benefits/.\n",
            "--------------------------------------------------\n",
            "\n",
            "Example 3:\n",
            "Predicted: Cloud\n",
            "Actual: AI / ML\n",
            "Title + Description: Gemini Cloud Assist Senior Product Manager, Google Cloud **Note:** By applying to this position you will have an opportunity to share your preferred working location from the following: Sunnyvale, CA, USA; Cambridge, MA, USA.\n",
            "  \n",
            "  \n",
            "\n",
            "**Minimum qualifications:**  \n",
            "\n",
            "* Bachelor's degree or equivalent practical experience.\n",
            "* 8 years of experience in product management or related technical role.\n",
            "* 3 years of experience taking technical products from conception to launch.\n",
            "* Experience with the domain area of Generative AI or Large Language Models.\n",
            "\n",
            "\n",
            "**Preferred qualifications:**  \n",
            "\n",
            "* Master's degree in a technology or business related field.\n",
            "* 5 years of experience working cross-functionally with engineering, UX/UI, sales finance, and other stakeholders.\n",
            "* 5 years of experience in a business function or role (e.g., strategic marketing, business operations, consulting).\n",
            "* 4 years of experience in a role preparing and delivering technical presentations to senior leadership.\n",
            "* 3 years of experience in software development or engineering.\n",
            "* 3 years of people management experience with direct reports, and in technical leadership.\n",
            "\n",
            "\n",
            "About the job\n",
            "  \n",
            "  \n",
            "\n",
            "At Google, we put our users first. The world is always changing, so we need Product Managers who are continuously adapting and excited to work on products that affect millions of people every day.In this role, you will work cross-functionally to guide products from conception to launch by connecting the technical and business worlds. You can break down complex problems into steps that drive product development.One of the many reasons Google consistently brings innovative, world-changing products to market is because of the collaborative work we do in Product Management. Our team works closely with creative engineers, designers, marketers, etc. to help design and develop technologies that improve access to the world's information. We're responsible for guiding products throughout the execution cycle, focusing specifically on analyzing, positioning, packaging, promoting, and tailoring our solutions to our users.\n",
            "  \n",
            "The team's mission is to integrate autonomous, assistive, and intelligent experiences to transform the way customers use Google Cloud products.\n",
            "  \n",
            "Google Cloud accelerates every organization’s ability to digitally transform its business and industry. We deliver enterprise-grade solutions that leverage Google’s cutting-edge technology, and tools that help developers build more sustainably. Customers in more than 200 countries and territories turn to Google Cloud as their trusted partner to enable growth and solve their most critical business problems.\n",
            "  \n",
            "The US base salary range for this full-time position is $168,000-$252,000 + bonus + equity + benefits. Our salary ranges are determined by role, level, and location. The range displayed on each job posting reflects the minimum and maximum target salaries for the position across all US locations. Within the range, individual pay is determined by work location and additional factors, including job-related skills, experience, and relevant education or training. Your recruiter can share more about the specific salary range for your preferred location during the hiring process.\n",
            "  \n",
            "Please note that the compensation details listed in US role postings reflect the base salary only, and do not include bonus, equity, or benefits. Learn more aboutbenefits at Google.\n",
            "  \n",
            "  \n",
            "\n",
            "Responsibilities\n",
            "  \n",
            "  \n",
            "\n",
            "* Develop a Gemini Cloud Assist roadmap that defines how Generative AI assists the user in application life-cycle management workflows such as design, deployment, troubleshooting, and optimization, including a concrete plan with specific feature specifications and implementation timelines.\n",
            "* Build a plan that defines how Generative AI capabilities contribute to the solutions and to a high-quality user experience, including data modeling and collection, evaluation, and serving/inference and quality mechanisms (e.g., prompt engineering, RAG, data indexing, and embedding).\n",
            "* Manage customer needs, and ensure solutions address real-world customer challenges.\n",
            "\n",
            "\n",
            "Google is proud to be an equal opportunity workplace and is an affirmative action employer. We are committed to equal employment opportunity regardless of race, color, ancestry, religion, sex, national origin, sexual orientation, age, citizenship, marital status, disability, gender identity or Veteran status. We also consider qualified applicants regardless of criminal histories, consistent with legal requirements. See alsoGoogle's EEO Policy andEEO is the Law. If you have a disability or special need that requires accommodation, please let us know by completing ourAccommodations for Applicants form.\n",
            "--------------------------------------------------\n",
            "\n",
            "\n",
            "Total misclassifications found: 60\n",
            "\n",
            "Most common misclassification patterns:\n",
            "Platform → Other type of PM: 11 instances\n",
            "Other type of PM → Non-PM: 10 instances\n",
            "Non-PM → Other type of PM: 10 instances\n",
            "Payments → Non-PM: 4 instances\n",
            "Data → Non-PM: 3 instances\n"
          ]
        }
      ]
    },
    {
      "cell_type": "code",
      "source": [
        "# After training your model\n",
        "original_acc_1, lower_bound_1, upper_bound_1, bootstrap_accuracies_1 = analyze_model_confidence(\n",
        "    model=model,\n",
        "    val_titles=val_titles,\n",
        "    val_descriptions=val_descriptions,\n",
        "    val_labels=y_val_BERT,\n",
        "    device=device,\n",
        "    n_iterations=1000,\n",
        "    confidence_level=0.95,\n",
        "    batch_size=16\n",
        ")"
      ],
      "metadata": {
        "colab": {
          "base_uri": "https://localhost:8080/",
          "height": 707
        },
        "id": "qT0KTB6PmYqn",
        "outputId": "1f922c7e-f233-4c65-de2b-c88896d5b76e"
      },
      "execution_count": 14,
      "outputs": [
        {
          "output_type": "stream",
          "name": "stdout",
          "text": [
            "\n",
            "Performing bootstrap analysis with 1000 iterations...\n"
          ]
        },
        {
          "output_type": "stream",
          "name": "stderr",
          "text": [
            "Bootstrap Sampling: 100%|██████████| 1000/1000 [00:00<00:00, 2270.11it/s]\n"
          ]
        },
        {
          "output_type": "stream",
          "name": "stdout",
          "text": [
            "\n",
            "Confidence Interval Analysis Results (95.0% CI):\n",
            "Original Accuracy: 0.6178\n",
            "Confidence Interval: [0.5478, 0.6881]\n",
            "Interval Width: 0.1403\n"
          ]
        },
        {
          "output_type": "display_data",
          "data": {
            "text/plain": [
              "<Figure size 1000x600 with 1 Axes>"
            ],
            "image/png": "[encoded data removed]"
          },
          "metadata": {}
        }
      ]
    },
    {
      "cell_type": "markdown",
      "source": [
        "### Model 2 - BERT with 512 Extract Tokens\n",
        "- Results:\n",
        "  - Training Accuracy: 89.92%\n",
        "  - Dev Accuracy: 64.97%\n",
        "  - 95% Confidence Interval: `[0.5732, 0.7197]`"
      ],
      "metadata": {
        "id": "qouu_8Lag4Rz"
      }
    },
    {
      "cell_type": "code",
      "source": [
        "# Use the 512 tokens extracted\n",
        "X_train_BERT_512, X_val_BERT_512, y_train_BERT_512, y_val_BERT_512 = train_test_split(\n",
        "    list(zip(titles, extract_tokens)),  # Using title and '512 tokens' columns\n",
        "    labels,\n",
        "    test_size=0.2,\n",
        "    random_state=256,\n",
        "    stratify=labels\n",
        ")\n",
        "# Unzip the training and validation data\n",
        "train_titles_512, train_descriptions_512 = zip(*X_train_BERT_512)\n",
        "val_titles_512, val_descriptions_512 = zip(*X_val_BERT_512)"
      ],
      "metadata": {
        "id": "V7DMH9diGKf_"
      },
      "execution_count": 9,
      "outputs": []
    },
    {
      "cell_type": "code",
      "source": [
        "# Assuming you have your data split into train and validation sets\n",
        "num_classes = len(set(labels))  # Number of unique labels\n",
        "\n",
        "model_512 = train_bert_classifier(\n",
        "    train_titles=train_titles_512,\n",
        "    train_descriptions=train_descriptions_512,\n",
        "    train_labels=y_train_BERT_512,\n",
        "    val_titles=val_titles_512,\n",
        "    val_descriptions=val_descriptions_512,\n",
        "    val_labels=y_val_BERT_512,\n",
        "    num_classes=num_classes,\n",
        "    batch_size=16,  # Adjust based on your GPU memory\n",
        "    num_epochs=7,\n",
        "    learning_rate=2e-5,\n",
        "    max_length=512\n",
        ")"
      ],
      "metadata": {
        "colab": {
          "base_uri": "https://localhost:8080/",
          "height": 1000
        },
        "id": "FRakJmM8GOxr",
        "outputId": "7410dc05-26c1-4071-943f-9dfea30027e3"
      },
      "execution_count": 10,
      "outputs": [
        {
          "output_type": "stream",
          "name": "stderr",
          "text": [
            "Epoch 1/7: 100%|██████████| 40/40 [00:18<00:00,  2.14it/s]\n"
          ]
        },
        {
          "output_type": "stream",
          "name": "stdout",
          "text": [
            "Epoch 1:\n",
            "Train Loss: 1.7101\n",
            "Train Accuracy: 0.3744\n",
            "Validation Loss: 1.6128\n",
            "Validation Accuracy: 0.4204\n"
          ]
        },
        {
          "output_type": "stream",
          "name": "stderr",
          "text": [
            "Epoch 2/7: 100%|██████████| 40/40 [00:18<00:00,  2.14it/s]\n"
          ]
        },
        {
          "output_type": "stream",
          "name": "stdout",
          "text": [
            "Epoch 2:\n",
            "Train Loss: 1.5403\n",
            "Train Accuracy: 0.4352\n",
            "Validation Loss: 1.5251\n",
            "Validation Accuracy: 0.4459\n"
          ]
        },
        {
          "output_type": "stream",
          "name": "stderr",
          "text": [
            "Epoch 3/7: 100%|██████████| 40/40 [00:18<00:00,  2.14it/s]\n"
          ]
        },
        {
          "output_type": "stream",
          "name": "stdout",
          "text": [
            "Epoch 3:\n",
            "Train Loss: 1.3024\n",
            "Train Accuracy: 0.5520\n",
            "Validation Loss: 1.2854\n",
            "Validation Accuracy: 0.5860\n"
          ]
        },
        {
          "output_type": "stream",
          "name": "stderr",
          "text": [
            "Epoch 4/7: 100%|██████████| 40/40 [00:18<00:00,  2.14it/s]\n"
          ]
        },
        {
          "output_type": "stream",
          "name": "stdout",
          "text": [
            "Epoch 4:\n",
            "Train Loss: 0.9659\n",
            "Train Accuracy: 0.6752\n",
            "Validation Loss: 1.2866\n",
            "Validation Accuracy: 0.6178\n"
          ]
        },
        {
          "output_type": "stream",
          "name": "stderr",
          "text": [
            "Epoch 5/7: 100%|██████████| 40/40 [00:18<00:00,  2.14it/s]\n"
          ]
        },
        {
          "output_type": "stream",
          "name": "stdout",
          "text": [
            "Epoch 5:\n",
            "Train Loss: 0.7502\n",
            "Train Accuracy: 0.7792\n",
            "Validation Loss: 1.3320\n",
            "Validation Accuracy: 0.5924\n"
          ]
        },
        {
          "output_type": "stream",
          "name": "stderr",
          "text": [
            "Epoch 6/7: 100%|██████████| 40/40 [00:18<00:00,  2.15it/s]\n"
          ]
        },
        {
          "output_type": "stream",
          "name": "stdout",
          "text": [
            "Epoch 6:\n",
            "Train Loss: 0.5485\n",
            "Train Accuracy: 0.8336\n",
            "Validation Loss: 1.3011\n",
            "Validation Accuracy: 0.6369\n"
          ]
        },
        {
          "output_type": "stream",
          "name": "stderr",
          "text": [
            "Epoch 7/7: 100%|██████████| 40/40 [00:18<00:00,  2.15it/s]\n"
          ]
        },
        {
          "output_type": "stream",
          "name": "stdout",
          "text": [
            "Epoch 7:\n",
            "Train Loss: 0.3586\n",
            "Train Accuracy: 0.8992\n",
            "Validation Loss: 1.3479\n",
            "Validation Accuracy: 0.6497\n"
          ]
        },
        {
          "output_type": "stream",
          "name": "stderr",
          "text": [
            "<ipython-input-6-c38eeb8c4277>:221: FutureWarning: You are using `torch.load` with `weights_only=False` (the current default value), which uses the default pickle module implicitly. It is possible to construct malicious pickle data which will execute arbitrary code during unpickling (See https://github.com/pytorch/pytorch/blob/main/SECURITY.md#untrusted-models for more details). In a future release, the default value for `weights_only` will be flipped to `True`. This limits the functions that could be executed during unpickling. Arbitrary objects will no longer be allowed to be loaded via this mode unless they are explicitly allowlisted by the user via `torch.serialization.add_safe_globals`. We recommend you start setting `weights_only=True` for any use case where you don't have full control of the loaded file. Please open an issue on GitHub for any issues related to this experimental feature.\n",
            "  model.load_state_dict(torch.load('best_bert_classifier.pt'))\n"
          ]
        },
        {
          "output_type": "stream",
          "name": "stdout",
          "text": [
            "\n",
            "Evaluating best model:\n"
          ]
        },
        {
          "output_type": "display_data",
          "data": {
            "text/plain": [
              "<Figure size 1200x800 with 2 Axes>"
            ],
            "image/png": "[encoded data removed]"
          },
          "metadata": {}
        },
        {
          "output_type": "stream",
          "name": "stdout",
          "text": [
            "\n",
            "Classification Report:\n",
            "                  precision    recall  f1-score   support\n",
            "\n",
            "         AI / ML      0.800     0.800     0.800        10\n",
            "             API      0.000     0.000     0.000         2\n",
            "           Cloud      0.600     0.500     0.545         6\n",
            "            Data      0.667     0.400     0.500        10\n",
            "          Non-PM      0.714     0.543     0.617        46\n",
            "Other type of PM      0.612     0.912     0.732        57\n",
            "        Payments      0.727     0.727     0.727        11\n",
            "        Platform      0.400     0.154     0.222        13\n",
            "  Trust & Safety      0.000     0.000     0.000         2\n",
            "\n",
            "        accuracy                          0.650       157\n",
            "       macro avg      0.502     0.449     0.461       157\n",
            "    weighted avg      0.632     0.650     0.620       157\n",
            "\n"
          ]
        },
        {
          "output_type": "stream",
          "name": "stderr",
          "text": [
            "/usr/local/lib/python3.10/dist-packages/sklearn/metrics/_classification.py:1531: UndefinedMetricWarning: Precision is ill-defined and being set to 0.0 in labels with no predicted samples. Use `zero_division` parameter to control this behavior.\n",
            "  _warn_prf(average, modifier, f\"{metric.capitalize()} is\", len(result))\n",
            "/usr/local/lib/python3.10/dist-packages/sklearn/metrics/_classification.py:1531: UndefinedMetricWarning: Precision is ill-defined and being set to 0.0 in labels with no predicted samples. Use `zero_division` parameter to control this behavior.\n",
            "  _warn_prf(average, modifier, f\"{metric.capitalize()} is\", len(result))\n",
            "/usr/local/lib/python3.10/dist-packages/sklearn/metrics/_classification.py:1531: UndefinedMetricWarning: Precision is ill-defined and being set to 0.0 in labels with no predicted samples. Use `zero_division` parameter to control this behavior.\n",
            "  _warn_prf(average, modifier, f\"{metric.capitalize()} is\", len(result))\n"
          ]
        }
      ]
    },
    {
      "cell_type": "markdown",
      "source": [
        "### Model 2 - Results Analysis"
      ],
      "metadata": {
        "id": "cBMcLLm6i0Ap"
      }
    },
    {
      "cell_type": "code",
      "source": [
        "# After training your model\n",
        "original_acc, lower_bound, upper_bound, bootstrap_accuracies = analyze_model_confidence(\n",
        "    model=model_512,\n",
        "    val_titles=val_titles_512,\n",
        "    val_descriptions=val_descriptions_512,\n",
        "    val_labels=y_val_BERT_512,\n",
        "    device=device,\n",
        "    n_iterations=1000,\n",
        "    confidence_level=0.95,\n",
        "    batch_size=16\n",
        ")"
      ],
      "metadata": {
        "colab": {
          "base_uri": "https://localhost:8080/",
          "height": 707
        },
        "id": "JPKLSCy6hDCZ",
        "outputId": "32ee9948-f437-4c03-bc1a-36e090c5afc3"
      },
      "execution_count": 15,
      "outputs": [
        {
          "output_type": "stream",
          "name": "stdout",
          "text": [
            "\n",
            "Performing bootstrap analysis with 1000 iterations...\n"
          ]
        },
        {
          "output_type": "stream",
          "name": "stderr",
          "text": [
            "Bootstrap Sampling: 100%|██████████| 1000/1000 [00:00<00:00, 2249.87it/s]\n"
          ]
        },
        {
          "output_type": "stream",
          "name": "stdout",
          "text": [
            "\n",
            "Confidence Interval Analysis Results (95.0% CI):\n",
            "Original Accuracy: 0.6497\n",
            "Confidence Interval: [0.5732, 0.7197]\n",
            "Interval Width: 0.1465\n"
          ]
        },
        {
          "output_type": "display_data",
          "data": {
            "text/plain": [
              "<Figure size 1000x600 with 1 Axes>"
            ],
            "image/png": "[encoded data removed]"
          },
          "metadata": {}
        }
      ]
    },
    {
      "cell_type": "code",
      "source": [
        "# Assuming you have your model and validation data ready\n",
        "display_misclassifications(\n",
        "    model=model_512,\n",
        "    val_titles=val_titles_512,\n",
        "    val_descriptions=val_descriptions_512,\n",
        "    val_labels=y_val_BERT_512,\n",
        "    label_map=label_map\n",
        ")"
      ],
      "metadata": {
        "id": "jnoKwxhoSUUN",
        "colab": {
          "base_uri": "https://localhost:8080/"
        },
        "outputId": "dca1e527-30c9-4e85-f882-a84885067bd8"
      },
      "execution_count": 16,
      "outputs": [
        {
          "output_type": "stream",
          "name": "stdout",
          "text": [
            "\n",
            "=== BERT Model Misclassifications ===\n",
            "\n",
            "Example 1:\n",
            "Predicted: Other type of PM\n",
            "Actual: Data\n",
            "Title + Description: BI Product, Product Management, Manager, Specialty the opportunity within the product team at travelers you will have the opportunity to regularly engage in unique and intellectually stimulating business problems as a manager product management you will manage the growth and profitability for a state s product or line of business you will analyze complex business problems and propose fact based solutions with consideration of internal and external trends to achieve business objectives by collaborating and influencing key stakeholders across the organization you will also ensure strategic direction and alignment for successful execution you will coach and lead cross functional team s on growth strategies products and objectives what will you do lead and guide the data analysis of business results including product refreshes performance expectations and identifying root cause develop and influence recommendations to drive desired growth profitability impacts that demonstrate a holistic view of short and long term strategy with consideration for local regulatory nuances and broader marketplace dynamics present inform and influence recommendations to key leadership stakeholders including proposed product pricing changes or new product builds act as a senior resource in key strategic initiatives to support the goals and objectives of the broader organization manage coach and or guide analysts perform other duties as assigned what will our ideal candidate have bachelor s degree in business management administration mathematics finance actuarial science economics or other analytics related field five years experience working in a mathematical analytical or data related role preferably in the financial services industry experience developing techniques and procedures used to forecast insurance financials has deep understanding of travelers business strategy and plan objectives to align with enterprise goals excellent communication skills with the ability to interact and influence management excellent analytical skills with the ability to evaluate and understand current data and systems find deficiencies opportunities recommend changes and translate into business impacts demonstrated knowledge of pricing and actuarial techniques and understanding of actuarial concepts such as loss development and trending understand the workflow and terminology of insurance products and processes and their impact on profit and loss what is a must have bachelor s degree or equivalent combination of education and experience three years of experience in data analytics or similar work experience what is in it for you health insurance employees and their eligible family members including spouses domestic partners and children are eligible for coverage from the first day of employment retirement travelers matches your 401 k contributions dollar for dollar up to your first 5 of eligible pay subject to an annual maximum if you have student loan debt you can enroll in the paying it forward savings program when you make a payment toward your student loan travelers will make an annual contribution into your 401 k account you are also eligible for a pension plan that is 100 funded by travelers paid time off start your career at travelers with a minimum of 20 days paid time off annually plus nine paid company holidays wellness\n",
            "--------------------------------------------------\n",
            "\n",
            "Example 2:\n",
            "Predicted: Payments\n",
            "Actual: API\n",
            "Title + Description: Associate Director, Technology Product Management, Digital Lending as the associate director digital lending product management you will guide a team that is charged with overseeing product lines that contribute directly to the revenue of a business unit this extends from increasing the profitability of existing products to developing new products for the company you must possess a unique blend of business and technical savvy a big picture vision and the drive to make that vision a reality you must enjoy spending time in the market to understand customer problems and find innovative solutions for the broader market you will be expected to serve as an evangelist for your industry and for your product you must also exhibit a high degree of professionalism in your work and interaction with others you will be responsible for working with various stakeholders to develop and maintain a strategy for our digital lending solutions with a specific focus on our esigning and loan management services that strategy will help you define product release priorities the product vision key milestones defined by critical functionality and the requirements that comprise each sprint and each release you are expected to lead your team properly prioritizing work with your team members in support or the team s product vision you must oversee and manage their professional development you will work with the market strategy group and marketing communications to define the go to market strategy helping them understand the product positioning key benefits and target customer you will also serve as the internal and external evangelist for your product offering occasionally working with the sales channel and key customers in this role you will report to the director product management and work a hybrid schedule two days in office and three days from your remote home office key responsibilities maintain required professional knowledge keep abreast of current developments and trends in area of expertise use this expertise to help develop plans and strategies to introduce new technology when appropriate recommend and develop innovations which enhance operations and or provide a competitive advantage lead and develop team to deliver successful results on time and within budget build products from existing ideas and help to develop new products based on your industry experience and your contact with customers and prospects use a structured approach to analyzing and resolving complex problems secure and evaluate relevant data from appropriate sources and trends and identifies key issues and relationships to determine the critical issues relative to a problem develops effective conclusions and comprehensive recommendations set priorities and allocate proper amounts of time to assigned activities maintain an awareness of interrelationships among activities maintains an organized approach and meets or exceeds agreed upon time and quality standards for end work product involved with full lifecycle application development with emphasis on agile development scrum sprints incremental design methodologies understand appropriate design development and testing methodologies to ensure a quality software product develop alternative courses of action and makes decisions based\n",
            "--------------------------------------------------\n",
            "\n",
            "Example 3:\n",
            "Predicted: Payments\n",
            "Actual: Data\n",
            "Title + Description: Senior Manager, Product Manager - Enterprise Data Platform as the digital revolution transforms our society and our industry do you dream of more elegant and intuitive products and customer experiences do you want to be the one who introduces change to help tens of millions of customers make smarter financial choices do you want to change the way people manage their money you have to ask yourself do you feel like making an impact in this role you ll be expected to demonstrate proficiency in four key areas human centered you ll lead sourcing and synthesis of customer discovery efforts to understand customer needs to drive the long term vision for your product you ll turn these customer insights into actionable strategies that will define the priorities for your team and rally your stakeholders to your vision business focused you ll own and prioritize the long term 12 18 months product roadmap to deliver on business outcomes working closely with a cross functional team to ensure that all the right resources are aligned to ensure that and your team will be successful you ll define kpis for your product and will be responsible for measuring and tracking to those measures with an eye to adjusting and refining your roadmap as the data dictates technology driven you ll have an end to end understanding of your product and how it fits into the larger ecosystem to be able to anticipate impacts from changes in other parts of the business you ll work closely with tech leadership and architecture to understand the tradeoffs of technical decisions and how they impact the ultimately customer experience your team will deliver always looking to ensure you re using the best tool for the job transformational leadership you ll rally your teams and senior stakeholders to your product vision and proactively leverage relationships throughout the ecosystem to align to your vision and influence prioritization across partner teams you ll be responsible for attracting and retaining top talent to your team and mentoring and developing associates on their product career we want you if you are intellectually curious you ask why you explore you re not afraid to blurt out your crazy idea or follow an email chain for weeks to find someone with an answer comfortable with ambiguity a hunger to learn and a seeker of new challenges communicator influencer you can communicate complex ideas clearly regardless of your audience our team knows their priorities and why they re doing what they re doing you always can rally associates to work with you do er you re biased toward action you try things and sometimes you fail you can get around roadblocks and stay focused on your goals you re well organized able to multitask and able to prioritize your work passionate customer focus you care about growing others and bringing them together around what s possible you get a thrill from the\n",
            "--------------------------------------------------\n",
            "\n",
            "\n",
            "Total misclassifications found: 55\n",
            "\n",
            "Most common misclassification patterns:\n",
            "Non-PM → Other type of PM: 18 instances\n",
            "Platform → Other type of PM: 6 instances\n",
            "Data → Other type of PM: 3 instances\n",
            "Platform → Non-PM: 3 instances\n",
            "Other type of PM → Non-PM: 3 instances\n"
          ]
        }
      ]
    },
    {
      "cell_type": "markdown",
      "source": [
        "## TF-IDF Classifier with Logistic Regression\n",
        "\n",
        "### Configuration:\n",
        "- **TF-IDF Vectorizer Settings**:\n",
        "  - `max_features = 1000` (top 1000 features)\n",
        "  - `ngram_range = (1, 2)` (unigrams and bigrams)\n",
        "  - `stop_words = 'english'` (removes common English stop words)\n",
        "  - `min_df = 2` (features must appear in at least 2 documents)\n",
        "  - `max_df = 0.9` (features appear in at most 90% of documents)\n",
        "\n",
        "- **Logistic Regression Settings**:\n",
        "  - Regularization parameter: `C = 1` (default value)\n",
        "  - Maximum iterations: `max_iter = 500` (for convergence)\n",
        "\n",
        "### Results:\n",
        "- **Training Accuracy**: 71.36%\n",
        "- **Validation Accuracy: 52.23%**\n",
        "- **95% Confidence Interval: `[0.4459, 0.5987]`**\n",
        "\n",
        "\n"
      ],
      "metadata": {
        "id": "Y5CqcKb2YYNA"
      }
    },
    {
      "cell_type": "code",
      "source": [
        "# Combine title and description for TFIDF vectorizer\n",
        "texts = [f\"{title} {desc}\" for title, desc in zip(titles, descriptions)]\n",
        "\n",
        "# Train and validation sets split\n",
        "X_train_tfidf, X_val_tfidf, y_train_tfidf, y_val_tfidf = train_test_split(\n",
        "    texts, labels,\n",
        "    test_size=0.2,\n",
        "    random_state=256,\n",
        "    stratify=labels  # Ensure balanced split\n",
        ")\n",
        "\n",
        "# Initialize and fit TF-IDF vectorizer\n",
        "tfidf = TfidfVectorizer(\n",
        "    max_features=768,  # Match BERT's dimension\n",
        "    ngram_range=(1, 2), # unigrams and bigrams\n",
        "    stop_words='english',\n",
        "    min_df=2, # Appear in at least 2 documents\n",
        "    max_df=0.9 # Appear in at most 90% of documents\n",
        ")\n",
        "\n",
        "# Texts to TF-IDF features\n",
        "X_train_tfidf = tfidf.fit_transform(X_train_tfidf)\n",
        "X_val_tfidf = tfidf.transform(X_val_tfidf)\n",
        "\n",
        "# C = 1 default\n",
        "print(\"\\nTraining logistic regression classifier...\")\n",
        "clf = LogisticRegression(C=1, max_iter=500, random_state=256)\n",
        "clf.fit(X_train_tfidf, y_train_tfidf)\n",
        "\n",
        "# Print evaluation metrics\n",
        "train_score = clf.score(X_train_tfidf, y_train_tfidf)\n",
        "val_score = clf.score(X_val_tfidf, y_val_tfidf)\n",
        "print(f\"Train accuracy: {train_score:.4f}\")\n",
        "\n",
        "print(f\"Validation accuracy: {val_score:.4f}\")\n",
        "\n",
        "# Print detailed evaluation\n",
        "y_pred_tfidf = clf.predict(X_val_tfidf)\n",
        "print(\"\\nClassification Report:\")\n",
        "\n",
        "# Get unique labels present in the validation set\n",
        "present_labels = sorted(set(y_val_tfidf))\n",
        "label_names = [list(label_map.keys())[i] for i in present_labels]\n",
        "\n",
        "print(classification_report(y_val_tfidf, y_pred_tfidf,\n",
        "                          labels=present_labels,\n",
        "                          target_names=label_names,\n",
        "                          digits=3))\n",
        "\n",
        "# Get top features for each class\n",
        "def print_top_features(classifier, vectorizer, class_labels, n=10):\n",
        "    \"\"\"Print top features (words) for each class\"\"\"\n",
        "    feature_names = np.array(vectorizer.get_feature_names_out())\n",
        "\n",
        "    print(\"\\nTop features per class:\")\n",
        "    for i, class_label in enumerate(class_labels):\n",
        "        top_indices = np.argsort(classifier.coef_[i])[-n:]\n",
        "        top_features = feature_names[top_indices]\n",
        "        print(f\"\\n{class_label}:\")\n",
        "        print(\", \".join(top_features))\n",
        "\n",
        "print_top_features(clf, tfidf, list(label_map.keys()))\n",
        "\n",
        "def predict_technology_tfidf(title, description):\n",
        "    \"\"\"Predict seniority level for a new job posting\"\"\"\n",
        "    # Combine title and description\n",
        "    text = f\"{title} {description}\"\n",
        "\n",
        "    # Transform text using TF-IDF\n",
        "    features = tfidf.transform([text])\n",
        "\n",
        "    # Get prediction\n",
        "    prediction = clf.predict(features)[0]\n",
        "    probabilities = clf.predict_proba(features)[0]\n",
        "\n",
        "    # Get original label\n",
        "    predicted_label = list(label_map.keys())[list(label_map.values()).index(prediction)]\n",
        "\n",
        "    # Get confidence scores\n",
        "    confidence_scores = {list(label_map.keys())[i]: prob\n",
        "                        for i, prob in enumerate(probabilities)}\n",
        "\n",
        "    return predicted_label, confidence_scores"
      ],
      "metadata": {
        "colab": {
          "base_uri": "https://localhost:8080/"
        },
        "id": "1ZFyUidOL-iZ",
        "outputId": "1ccaf4e0-b9b5-479b-94c8-e235c3860fd4"
      },
      "execution_count": 17,
      "outputs": [
        {
          "output_type": "stream",
          "name": "stdout",
          "text": [
            "\n",
            "Training logistic regression classifier...\n",
            "Train accuracy: 0.7136\n",
            "Validation accuracy: 0.5223\n",
            "\n",
            "Classification Report:\n",
            "                  precision    recall  f1-score   support\n",
            "\n",
            "         AI / ML      1.000     0.400     0.571        10\n",
            "             API      0.000     0.000     0.000         2\n",
            "           Cloud      0.500     0.167     0.250         6\n",
            "            Data      1.000     0.100     0.182        10\n",
            "          Non-PM      0.577     0.652     0.612        46\n",
            "Other type of PM      0.478     0.772     0.591        57\n",
            "        Payments      0.400     0.182     0.250        11\n",
            "        Platform      0.000     0.000     0.000        13\n",
            "  Trust & Safety      0.000     0.000     0.000         2\n",
            "\n",
            "        accuracy                          0.522       157\n",
            "       macro avg      0.439     0.253     0.273       157\n",
            "    weighted avg      0.517     0.522     0.469       157\n",
            "\n",
            "\n",
            "Top features per class:\n",
            "\n",
            "AI / ML:\n",
            "technologies, talent, systems, content, consumer, platform, experiences, world, learning, ai\n",
            "\n",
            "API:\n",
            "location, development, software development, usa, benefits, agile, partners, partner, digital, google\n",
            "\n",
            "Cloud:\n",
            "architecture, network, background, microsoft, technical, aws, security, infrastructure, google, cloud\n",
            "\n",
            "Data:\n",
            "owner, product owner, problems, roadmap, product vision, reporting, capital, aws, analytics, data\n",
            "\n",
            "Non-PM:\n",
            "issues, brand, manufacturing, required, quality, project, support, product marketing, sales, marketing\n",
            "\n",
            "Other type of PM:\n",
            "people, product owner, owner, ad, market, ideas, lines, mobile, digital, product manager\n",
            "\n",
            "Payments:\n",
            "services, small, businesses, risk, capital, banking, financial, credit, bank, payments\n",
            "\n",
            "Platform:\n",
            "gather, engineering, applications, risk, mission, features, infrastructure, technical, enterprise, platform\n",
            "\n",
            "Trust & Safety:\n",
            "service, google, cloud, partners, feature, amazon, areas, match, trust, security\n"
          ]
        },
        {
          "output_type": "stream",
          "name": "stderr",
          "text": [
            "/usr/local/lib/python3.10/dist-packages/sklearn/metrics/_classification.py:1531: UndefinedMetricWarning: Precision is ill-defined and being set to 0.0 in labels with no predicted samples. Use `zero_division` parameter to control this behavior.\n",
            "  _warn_prf(average, modifier, f\"{metric.capitalize()} is\", len(result))\n",
            "/usr/local/lib/python3.10/dist-packages/sklearn/metrics/_classification.py:1531: UndefinedMetricWarning: Precision is ill-defined and being set to 0.0 in labels with no predicted samples. Use `zero_division` parameter to control this behavior.\n",
            "  _warn_prf(average, modifier, f\"{metric.capitalize()} is\", len(result))\n",
            "/usr/local/lib/python3.10/dist-packages/sklearn/metrics/_classification.py:1531: UndefinedMetricWarning: Precision is ill-defined and being set to 0.0 in labels with no predicted samples. Use `zero_division` parameter to control this behavior.\n",
            "  _warn_prf(average, modifier, f\"{metric.capitalize()} is\", len(result))\n"
          ]
        }
      ]
    },
    {
      "cell_type": "markdown",
      "source": [
        "### Model 3 - Confidence Interval"
      ],
      "metadata": {
        "id": "3__uioNDq3hh"
      }
    },
    {
      "cell_type": "code",
      "source": [
        "def bootstrap_confidence_interval_tfidf(clf, X_val, y_val, n_iterations=1000, confidence_level=0.95):\n",
        "    \"\"\"\n",
        "    Calculate confidence interval for TFIDF model accuracy using bootstrap sampling.\n",
        "\n",
        "    Args:\n",
        "        clf: Trained logistic regression classifier\n",
        "        X_val: Validation features (TFIDF matrix)\n",
        "        y_val: Validation labels\n",
        "        n_iterations: Number of bootstrap iterations\n",
        "        confidence_level: Confidence level for the interval\n",
        "\n",
        "    Returns:\n",
        "        tuple: (original_accuracy, lower_bound, upper_bound, bootstrap_accuracies)\n",
        "    \"\"\"\n",
        "    # Convert sparse matrix to dense if needed\n",
        "    if hasattr(X_val, 'toarray'):\n",
        "        X_val = X_val.toarray()\n",
        "\n",
        "    # Get original predictions and accuracy\n",
        "    y_pred = clf.predict(X_val)\n",
        "    original_accuracy = accuracy_score(y_val, y_pred)\n",
        "\n",
        "    # Perform bootstrap sampling\n",
        "    bootstrap_accuracies = []\n",
        "    n_samples = len(y_val)\n",
        "\n",
        "    for _ in tqdm(range(n_iterations), desc=\"Bootstrap Sampling\"):\n",
        "        # Sample with replacement\n",
        "        indices = np.random.choice(n_samples, size=n_samples, replace=True)\n",
        "        X_sample = X_val[indices]\n",
        "        # Convert y_val to a NumPy array before indexing\n",
        "        y_sample_true = np.array(y_val)[indices]\n",
        "\n",
        "        # Get predictions for this sample\n",
        "        y_sample_pred = clf.predict(X_sample)\n",
        "\n",
        "        # Calculate accuracy for this sample\n",
        "        accuracy = accuracy_score(y_sample_true, y_sample_pred)\n",
        "        bootstrap_accuracies.append(accuracy)\n",
        "\n",
        "    # Calculate confidence interval\n",
        "    alpha = 1 - confidence_level\n",
        "    lower_percentile = alpha / 2 * 100\n",
        "    upper_percentile = (1 - alpha / 2) * 100\n",
        "\n",
        "    lower_bound = np.percentile(bootstrap_accuracies, lower_percentile)\n",
        "    upper_bound = np.percentile(bootstrap_accuracies, upper_percentile)\n",
        "\n",
        "    return original_accuracy, lower_bound, upper_bound, bootstrap_accuracies\n",
        "\n",
        "original_accuracy_tfidf, lower_bound_tfidf, upper_bound_tfidf, bootstrap_accuracies_tfidf = bootstrap_confidence_interval_tfidf(\n",
        "    clf=clf,\n",
        "    X_val=X_val_tfidf,\n",
        "    y_val=y_val_tfidf,\n",
        "    n_iterations=1000,\n",
        "    confidence_level=0.95\n",
        ")\n",
        "\n",
        "print(f\"\\nConfidence Interval Analysis Results ({0.95*100}% CI):\")\n",
        "print(f\"Original Accuracy: {original_accuracy_tfidf:.4f}\")\n",
        "print(f\"Confidence Interval: [{lower_bound_tfidf:.4f}, {upper_bound_tfidf:.4f}]\")\n",
        "print(f\"Interval Width: {upper_bound_tfidf - lower_bound_tfidf:.4f}\")"
      ],
      "metadata": {
        "colab": {
          "base_uri": "https://localhost:8080/"
        },
        "id": "226DouCXq7Xq",
        "outputId": "ccd6b25b-5d76-4230-b18e-00579c6017e2"
      },
      "execution_count": 18,
      "outputs": [
        {
          "output_type": "stream",
          "name": "stderr",
          "text": [
            "Bootstrap Sampling: 100%|██████████| 1000/1000 [00:01<00:00, 734.53it/s]"
          ]
        },
        {
          "output_type": "stream",
          "name": "stdout",
          "text": [
            "\n",
            "Confidence Interval Analysis Results (95.0% CI):\n",
            "Original Accuracy: 0.5223\n",
            "Confidence Interval: [0.4459, 0.5987]\n",
            "Interval Width: 0.1529\n"
          ]
        },
        {
          "output_type": "stream",
          "name": "stderr",
          "text": [
            "\n"
          ]
        }
      ]
    },
    {
      "cell_type": "markdown",
      "source": [
        "### Model 3 - Confusion Matrix"
      ],
      "metadata": {
        "id": "TdogZmGMobnk"
      }
    },
    {
      "cell_type": "code",
      "source": [
        "def plot_confusion_matrix_TFIDF(y_true, y_pred, label_map, figsize=(12, 8)):\n",
        "\n",
        "    # Compute confusion matrix\n",
        "    cm = confusion_matrix(y_true, y_pred)\n",
        "\n",
        "    title = 'Confusion Matrix TFIDF'\n",
        "\n",
        "    # Get unique labels present in the data\n",
        "    present_labels = sorted(set(y_true))\n",
        "    label_names = [list(label_map.keys())[i] for i in present_labels]\n",
        "\n",
        "    # Create figure and axes\n",
        "    plt.figure(figsize=figsize)\n",
        "\n",
        "    # Create heatmap\n",
        "    sns.heatmap(cm,\n",
        "                annot=True,\n",
        "                fmt='d',\n",
        "                cmap='Blues',\n",
        "                xticklabels=label_names,\n",
        "                yticklabels=label_names)\n",
        "\n",
        "    # Customize the plot\n",
        "    plt.title(title, pad=20)\n",
        "    plt.ylabel('True Label')\n",
        "    plt.xlabel('Predicted Label')\n",
        "\n",
        "    # Rotate labels for better readability\n",
        "    plt.xticks(rotation=45, ha='right')\n",
        "    plt.yticks(rotation=0)\n",
        "\n",
        "    # Adjust layout to prevent label cutoff\n",
        "    plt.tight_layout()\n",
        "\n",
        "    return plt\n",
        "\n",
        "plot = plot_confusion_matrix_TFIDF(y_val_tfidf, y_pred_tfidf, label_map)\n",
        "plt.show()"
      ],
      "metadata": {
        "colab": {
          "base_uri": "https://localhost:8080/",
          "height": 806
        },
        "id": "28eXJzt6nb1Q",
        "outputId": "92d637ef-b6b2-494a-99d8-e0838eb7840d"
      },
      "execution_count": 19,
      "outputs": [
        {
          "output_type": "display_data",
          "data": {
            "text/plain": [
              "<Figure size 1200x800 with 2 Axes>"
            ],
            "image/png": "[encoded data removed]"
          },
          "metadata": {}
        }
      ]
    },
    {
      "cell_type": "markdown",
      "source": [
        "### Model 3 - Sample Misclassfication"
      ],
      "metadata": {
        "id": "wBlRCyNyFaqn"
      }
    },
    {
      "cell_type": "code",
      "source": [
        "def display_misclassifications_TFIDF(predictions, true_labels, texts, label_map, target_pred='Other type of PM',\n",
        "                             target_true_labels=['AI / ML', 'Non-PM']):\n",
        "    \"\"\"\n",
        "    Display misclassifications where model predicted target_pred but was actually one of target_true_labels\n",
        "\n",
        "    Args:\n",
        "        predictions: array, model predictions\n",
        "        true_labels: array, true labels\n",
        "        texts: list, job titles + descriptions\n",
        "        label_map: dict, mapping from label names to indices\n",
        "        target_pred: str, target prediction label to analyze\n",
        "        target_true_labels: list, target true labels to compare against\n",
        "    \"\"\"\n",
        "    # Get label indices\n",
        "    pred_idx = label_map[target_pred]\n",
        "    true_indices = [label_map[label] for label in target_true_labels]\n",
        "\n",
        "    print(f\"\\n=== TFIDF Model Misclassifications ===\")\n",
        "\n",
        "    # Find misclassifications for each target true label\n",
        "    for true_label, true_idx in zip(target_true_labels, true_indices):\n",
        "        misclassified = [(i, text) for i, (text, pred, true)\n",
        "                        in enumerate(zip(texts, predictions, true_labels))\n",
        "                        if pred == pred_idx and true == true_idx]\n",
        "\n",
        "        if misclassified:\n",
        "            i, text = misclassified[0]\n",
        "            print(f\"\\nPredicted: {target_pred}\")\n",
        "            print(f\"Actual: {true_label}\")\n",
        "            print(\"\\nTitle + Description:\")\n",
        "            print(f\"{text[:1000]}...\")\n",
        "            print(\"\\n\" + \"-\"*50)\n",
        "\n",
        "# For TFIDF model\n",
        "tfidf_val_texts = [texts[i] for i in range(len(texts)) if i in range(len(X_val_tfidf.toarray()))]\n",
        "display_misclassifications_TFIDF(\n",
        "    predictions=y_pred_tfidf,\n",
        "    true_labels=y_val_tfidf,\n",
        "    texts=tfidf_val_texts,\n",
        "    label_map=label_map\n",
        ")"
      ],
      "metadata": {
        "id": "5gnqiecnTk5o",
        "colab": {
          "base_uri": "https://localhost:8080/"
        },
        "outputId": "3738bd01-9575-42c2-bf6c-4b7a7c1514f6"
      },
      "execution_count": 20,
      "outputs": [
        {
          "output_type": "stream",
          "name": "stdout",
          "text": [
            "\n",
            "=== TFIDF Model Misclassifications ===\n",
            "\n",
            "Predicted: Other type of PM\n",
            "Actual: AI / ML\n",
            "\n",
            "Title + Description:\n",
            "Senior Manager, Digital Product Management Company Summary:\n",
            "\n",
            "DISH, an EchoStar company, has been reimagining the future of connectivity for more than 40 years. Our business reach spans satellite television service, live-streaming and on-demand programming, smart home installation services, mobile plans and products and now we are building America’s First Smart Network™.  \n",
            "\n",
            "  \n",
            "\n",
            "Today, our brands include EchoStar, Hughes, DISH TV, Sling TV, Boost Mobile and Gen Mobile.\n",
            "Department Summary:\n",
            "\n",
            "Our Technology teams challenge the status quo and reimagine capabilities across industries. Whether through research and development, technology innovation or solution engineering, our people play vital roles in connecting consumers with the products and platforms of tomorrow.\n",
            "Job Duties and Responsibilities:\n",
            "\n",
            "As we continue the roll-out of our 5G network, and navigate the changing landscape in television, we are looking to invest in growing our consumer direct/omnichannel capabilities. This individual...\n",
            "\n",
            "--------------------------------------------------\n",
            "\n",
            "Predicted: Other type of PM\n",
            "Actual: Non-PM\n",
            "\n",
            "Title + Description:\n",
            "(Sr.) Product Manager **TriEdge** is a Family Office and innovative healthcare technology and investment company. Our mission is to transform healthcare through a unique combination of software development and ownership of operating companies. We believe that the future healthcare technology leaders will be software companies that own and optimize healthcare infrastructure.\n",
            "\n",
            "\n",
            "\n",
            "As healthcare spending continues to grow, projected to reach 20% of US GDP by 2032, TriEdge is positioning itself at the forefront of this transformation. We are seeking a talented Product Manager with a passion for healthcare technology to lead the development of our healthcare-focused products. As a Product Manager, you will play a critical role in defining and executing our product strategy, collaborating with cross-functional teams to deliver innovative solutions that address the unique needs of healthcare providers, patients, and other stakeholders. The ideal candidate will have a strong background in produc...\n",
            "\n",
            "--------------------------------------------------\n"
          ]
        }
      ]
    },
    {
      "cell_type": "markdown",
      "source": [
        "## GPT4 Chain-of-Thought (CoT) Model\n",
        "\n",
        "### Configuration:\n",
        "- **Model**:\n",
        "  - `GPT-4-turbo-preview`\n",
        "- **Step-by-Step Reasoning**:\n",
        "  - `Check if this is a PM role`\n",
        "    - `If not, classify as Non-PM`\n",
        "    - `If yes, next step`\n",
        "  - `Check against specific category criteria`\n",
        "  - `Output exactly one category from the allowed list`\n",
        "\n",
        "### Results:\n",
        "- **Data**: 211 selected samples\n",
        "- **Accuracy**: 67.30%\n"
      ],
      "metadata": {
        "id": "5oWP_7DCCBkQ"
      }
    },
    {
      "cell_type": "code",
      "source": [
        "! pip install openai"
      ],
      "metadata": {
        "id": "LTpyQCljE_zB"
      },
      "execution_count": null,
      "outputs": []
    },
    {
      "cell_type": "code",
      "source": [
        "from typing import Dict, List, Optional\n",
        "import json\n",
        "import os\n",
        "from datetime import datetime\n",
        "import logging\n",
        "from openai import OpenAI"
      ],
      "metadata": {
        "id": "82wliq-XFDc0"
      },
      "execution_count": null,
      "outputs": []
    },
    {
      "cell_type": "code",
      "source": [
        "# Read data\n",
        "df_GPT = df\n",
        "# Filter rows from index 256 to 467\n",
        "filtered_df = df_GPT.iloc[256:467]\n",
        "\n",
        "# Initialize OpenAI client\n",
        "client = OpenAI(api_key=\"YOURAPI\")\n",
        "\n",
        "# Setup logging\n",
        "logging.basicConfig(\n",
        "    level=logging.INFO,\n",
        "    format='%(asctime)s - %(levelname)s - %(message)s'\n",
        ")\n",
        "logger = logging.getLogger(__name__)\n",
        "\n",
        "def classify_job(job_description: str) -> dict:\n",
        "    \"\"\"Classify a single job description\"\"\"\n",
        "    system_prompt = \"\"\"\n",
        "    You are a job classification expert. Your task is to classify product management job descriptions into specific categories.\n",
        "    Follow this exact chain of thought:\n",
        "    1. First, check if this is a PM role\n",
        "    2. If not PM role, classify as \"Non-PM\"\n",
        "    3. If PM role, analyze against specific category criteria\n",
        "    4. Output exactly one category from the allowed list\n",
        "\n",
        "    Output format must be JSON with two fields:\n",
        "    {\n",
        "        \"reasoning\": \"Your step-by-step reasoning here\",\n",
        "        \"category\": \"Exact category name\"\n",
        "    }\n",
        "\n",
        "    Valid categories are:\n",
        "    - AI/ML Product Manager\n",
        "    - Platform Product Manager\n",
        "    - Cloud Product Manager\n",
        "    - Other Product Manager Types\n",
        "    - Payments Product Manager\n",
        "    - Data Product Manager\n",
        "    - API / Integrations Product Manager\n",
        "    - Trust & Safety Product Manager\n",
        "    - Non-PM\n",
        "\n",
        "    - AI/ML Product Manager: Look for titles that include AI, Artificial Intelligence, Machine Learning (ML), Deep Learning, GenAI, or related AI terms.\n",
        "    - Platform Product Manager: Look for titles that mention Platform alongside Product Manager or similar terms suggesting responsibility for the underlying platform.\n",
        "    - Cloud Product Manager: Label a post as Cloud Product Manager if the role description emphasizes managing cloud-based services, platforms, or infrastructure.\n",
        "    - Other Product Manager Types: Label a post as Other type of Product Manager if it describes responsibilities focused on developing and enhancing critical product features, typically central to the user experience and product value.\n",
        "    - Payments Product Manager: Look for titles that include Payments alongside Product Manager or terms related to payment processing or financial transactions.\n",
        "    - Data Product Manager: Label a post as Data Product Manager if it describes responsibilities focused on managing data platforms, tools, and products that support data analytics, insights, and machine learning applications.\n",
        "    - API / Integrations Product Manager: Label a post as API & Integrations Product Manager if it describes responsibilities focused on developing and managing APIs, creating integration capabilities, and optimizing partnerships with external or internal developers.\n",
        "    - Trust & Safety Product Manager: Label a post as Trust & Safety Product Manager if it describes responsibilities focused on ensuring user safety, managing content policies, and enforcing compliance. K\n",
        "\n",
        "    \"\"\"\n",
        "\n",
        "    try:\n",
        "        messages = [\n",
        "            {\"role\": \"system\", \"content\": system_prompt},\n",
        "            {\"role\": \"user\", \"content\": f\"Please classify this job description:\\n\\n{job_description}\"}\n",
        "        ]\n",
        "\n",
        "        response = client.chat.completions.create(\n",
        "            model=\"gpt-4-turbo-preview\",\n",
        "            messages=messages,\n",
        "            temperature=0.1,\n",
        "            response_format={\"type\": \"json_object\"}\n",
        "        )\n",
        "\n",
        "        return json.loads(response.choices[0].message.content)\n",
        "\n",
        "    except Exception as e:\n",
        "        logger.error(f\"Error in classification: {str(e)}\")\n",
        "        return {\n",
        "            \"reasoning\": f\"Error occurred during classification: {str(e)}\",\n",
        "            \"category\": \"Other Product Manager Types\"\n",
        "        }\n",
        "\n",
        "# Process each job description\n",
        "results = []\n",
        "for index, row in filtered_df.iterrows():\n",
        "    # Combine title and description for better context\n",
        "    full_description = f\"Title: {row['title']}\\nCompany: {row['company']}\\nDescription: {row['description']}\"\n",
        "\n",
        "    # Classify the job\n",
        "    result = classify_job(full_description)\n",
        "\n",
        "    # Add job details to result\n",
        "    result['id'] = row['id']\n",
        "    result['title'] = row['title']\n",
        "    result['company'] = row['company']\n",
        "\n",
        "    results.append(result)\n",
        "\n",
        "    # Log progress\n",
        "    logger.info(f\"Processed job {index} - {row['id']} - Category: {result['category']}\")\n",
        "\n",
        "# Save results to JSON\n",
        "timestamp = datetime.now().strftime('%Y%m%d_%H%M%S')\n",
        "output_filename = f'job_classifications_{timestamp}.json'\n",
        "\n",
        "with open(output_filename, 'w') as f:\n",
        "    json.dump(results, f, indent=2)\n",
        "\n",
        "logger.info(f\"Results saved to {output_filename}\")\n",
        "\n",
        "# Create a summary DataFrame\n",
        "summary_df = pd.DataFrame(results)\n",
        "print(\"\\nClassification Summary:\")\n",
        "print(summary_df['category'].value_counts())\n",
        "\n",
        "# Save to CSV as well\n",
        "csv_filename = f'job_classifications_{timestamp}.csv'\n",
        "summary_df.to_csv(csv_filename, index=False)\n",
        "logger.info(f\"Results also saved to {csv_filename}\")"
      ],
      "metadata": {
        "id": "L0PFVa5DCL9k"
      },
      "execution_count": null,
      "outputs": []
    },
    {
      "cell_type": "markdown",
      "source": [
        "Load Pre-saved Results"
      ],
      "metadata": {
        "id": "lSEnqzM-FrN8"
      }
    },
    {
      "cell_type": "code",
      "source": [
        "correct_label = 0\n",
        "GPT4_label_results = pd.read_csv('/content/drive/MyDrive/INFO256/GPT4_label_211Sample.csv')\n",
        "# Compare the first words\n",
        "for i, row in GPT4_label_results.iterrows():\n",
        "    if row['category_first'] == row['technology_first']:\n",
        "        correct_label += 1\n",
        "\n",
        "# Calculate and print the proportion\n",
        "print(f\"{(correct_label / len(GPT4_label_results) * 100):.2f}%\")"
      ],
      "metadata": {
        "colab": {
          "base_uri": "https://localhost:8080/"
        },
        "id": "T9Fxis70D6-7",
        "outputId": "bbc168a0-cb8c-40e8-d8bc-c4f8d64a9b25"
      },
      "execution_count": null,
      "outputs": [
        {
          "output_type": "stream",
          "name": "stdout",
          "text": [
            "67.30%\n"
          ]
        }
      ]
    },
    {
      "cell_type": "markdown",
      "source": [
        "## Visualizations"
      ],
      "metadata": {
        "id": "QYBiiktbIBAR"
      }
    },
    {
      "cell_type": "markdown",
      "source": [
        "### Accuracy by Model - Figure 1"
      ],
      "metadata": {
        "id": "5a5dg8mSNTkg"
      }
    },
    {
      "cell_type": "code",
      "source": [
        "# Figure 1 - Model Performance Comparison\n",
        "methods = ['Majority\\nBaseline', 'TF-IDF', 'BERT\\nBase', 'BERT \\nRegEx', 'GPT-4\\nCoT']\n",
        "accuracies = [36.19, 52.23, 61.78, 64.97, 67.30]\n",
        "ci_lower = [36.19, 44.59, 54.78, 57.32, 67.30]\n",
        "ci_upper = [36.19, 59.87, 68.81, 71.97, 67.30]\n",
        "\n",
        "# Calculate error bar lengths\n",
        "yerr_lower = np.array(accuracies) - np.array(ci_lower)\n",
        "yerr_upper = np.array(ci_upper) - np.array(accuracies)\n",
        "yerr = np.array([yerr_lower, yerr_upper])\n",
        "\n",
        "# Colors\n",
        "colors = ['purple', 'green', 'red', 'blue', 'orange']\n",
        "alpha = 0.5\n",
        "\n",
        "# Create the plot\n",
        "plt.figure(figsize=(8, 6))\n",
        "bars = plt.bar(methods, accuracies, color=colors, alpha=alpha)\n",
        "\n",
        "# Add error bars\n",
        "plt.errorbar(methods, accuracies, yerr=yerr, fmt='none', color='black', capsize=15,\n",
        "             capthick=2, elinewidth=2)\n",
        "\n",
        "# Customize the plot\n",
        "plt.ylabel('Accuracy (%)', fontsize=15)\n",
        "plt.xticks(fontsize=15)\n",
        "plt.grid(axis='y', linestyle='--', alpha=0.2)\n",
        "plt.ylim(0, 100)\n",
        "\n",
        "# Add value labels on top of bars\n",
        "for bar in bars:\n",
        "    height = bar.get_height()\n",
        "    plt.text(bar.get_x() + bar.get_width()/2., height,\n",
        "             f'{height:.1f}',\n",
        "             ha='center', va='bottom', fontsize=15)\n",
        "\n",
        "# Create CI text for text box\n",
        "ci_text = \"Confidence Intervals:\\n\"\n",
        "ci_text += \"\\n\"\n",
        "ci_text += f\"Majority Baseline [{ci_lower[0]:.0f}]     \"\n",
        "ci_text += f\"TF-IDF [{ci_lower[1]:.0f}, {ci_upper[1]:.0f}]\\n\"\n",
        "ci_text += f\"BERT Base [{ci_lower[2]:.0f}, {ci_upper[2]:.0f}]     \"\n",
        "ci_text += f\"BERT RegEx [{ci_lower[3]:.0f}, {ci_upper[3]:.0f}]\\n\"\n",
        "ci_text += f\"GPT-4 CoT* [{ci_lower[4]:.0f}]\"\n",
        "\n",
        "# Add text box inside the plot\n",
        "plt.text(0.5, 0.95, ci_text,\n",
        "         horizontalalignment='center',\n",
        "         verticalalignment='top',\n",
        "         transform=plt.gca().transAxes,\n",
        "         bbox=dict(facecolor='white', alpha=0.8, edgecolor='white', boxstyle='round,pad=0.5'), fontsize=12)\n",
        "\n",
        "# Add footnote about GPT-4 CoT sample size\n",
        "footnote = \"* GPT-4 CoT results are based on 211 selected samples\"\n",
        "plt.figtext(0.5, -0.05, footnote, ha='center', fontsize=10)\n",
        "\n",
        "plt.title('Model Performance Comparison', fontsize=14, pad=20)\n",
        "\n",
        "\n",
        "# Use tight_layout instead of subplots_adjustx\n",
        "plt.tight_layout()\n",
        "\n",
        "plt.show()"
      ],
      "metadata": {
        "colab": {
          "base_uri": "https://localhost:8080/",
          "height": 655
        },
        "id": "YyRlIkB5ID0a",
        "outputId": "81ae1f59-f0e2-429e-ce38-0826109c7c54"
      },
      "execution_count": 27,
      "outputs": [
        {
          "output_type": "display_data",
          "data": {
            "text/plain": [
              "<Figure size 800x600 with 1 Axes>"
            ],
            "image/png": "[encoded data removed]"
          },
          "metadata": {}
        }
      ]
    },
    {
      "cell_type": "markdown",
      "source": [
        "### F1Score by Category - Figure 2"
      ],
      "metadata": {
        "id": "-jBgoYWgNOyQ"
      }
    },
    {
      "cell_type": "code",
      "source": [
        "# Data preparation\n",
        "categories = ['AI/ML', 'API', 'Cloud', 'Data', 'Non-PM', 'Other type of PM',\n",
        "              'Payments', 'Platform', 'Trust & Safety']\n",
        "\n",
        "f1_scores = {\n",
        "    'Model 1 (BERT Base)': [0.700, 0.000, 0.667, 0.526, 0.660, 0.662, 0.588, 0.133, 0.000],\n",
        "    'Model 2 (BERT RegEx)': [0.800, 0.000, 0.545, 0.500, 0.617, 0.732, 0.727, 0.222, 0.000],\n",
        "    'Model 3 (TFIDF)': [0.571, 0.000, 0.250, 0.182, 0.612, 0.591, 0.250, 0.000, 0.000]\n",
        "}\n",
        "\n",
        "# Plot settings\n",
        "plt.style.use('seaborn-v0_8-paper')\n",
        "fig, ax = plt.subplots(figsize=(8, 6))\n",
        "\n",
        "# Position calculations\n",
        "x = np.arange(len(categories))\n",
        "width = 0.25\n",
        "multiplier = 0\n",
        "\n",
        "# Color scheme suitable for academic publications\n",
        "colors = ['red', 'blue', 'green']\n",
        "\n",
        "# Plot bars for each model\n",
        "for model, scores in f1_scores.items():\n",
        "    offset = width * multiplier\n",
        "    rects = ax.bar(x + offset, scores, width, label=model, color=colors[multiplier], alpha = 0.5)\n",
        "    multiplier += 1\n",
        "\n",
        "# Customize the plot\n",
        "ax.set_ylabel('F1-Score', fontsize=15)\n",
        "ax.set_title('Model Performance Comparison \\nby Category (F1-Score)',\n",
        "            fontsize=14, pad=15)\n",
        "\n",
        "# Customize x-axis\n",
        "ax.set_xticks(x + width)\n",
        "ax.set_xticklabels(categories, rotation=45, ha='right', fontsize=12)\n",
        "\n",
        "# Add grid for better readability\n",
        "plt.grid(axis='y', linestyle='--', alpha=0.2)\n",
        "ax.set_axisbelow(True)\n",
        "\n",
        "# Customize legend\n",
        "ax.legend(bbox_to_anchor=(0.5, 0.9), loc='center', ncol=3, frameon=True)\n",
        "\n",
        "# Set y-axis limits\n",
        "ax.set_ylim(0, 1.0)\n",
        "\n",
        "# Adjust layout\n",
        "plt.tight_layout()\n",
        "\n",
        "# Show plot\n",
        "plt.show()"
      ],
      "metadata": {
        "colab": {
          "base_uri": "https://localhost:8080/",
          "height": 607
        },
        "id": "8vNnOrCpILlI",
        "outputId": "d8dc0f7f-2d34-4c9b-d8d9-4831bf86c09c"
      },
      "execution_count": 28,
      "outputs": [
        {
          "output_type": "display_data",
          "data": {
            "text/plain": [
              "<Figure size 800x600 with 1 Axes>"
            ],
            "image/png": "[encoded data removed]"
          },
          "metadata": {}
        }
      ]
    },
    {
      "cell_type": "markdown",
      "source": [
        "### Loss by Epoch - Figure 3"
      ],
      "metadata": {
        "id": "9LeLu0-Wb7qz"
      }
    },
    {
      "cell_type": "code",
      "source": [
        "# Data for Model 1\n",
        "model1_train_loss = [1.7502, 1.5570, 1.1779, 0.8581, 0.6052, 0.4325, 0.2610]\n",
        "model1_val_loss = [1.6400, 1.4242, 1.2195, 1.1952, 1.2881, 1.3299, 1.4523]\n",
        "\n",
        "# Data for Model 2\n",
        "model2_train_loss = [1.7101, 1.5403, 1.3024, 0.9659, 0.7502, 0.5485, 0.3586]\n",
        "model2_val_loss = [1.6128, 1.5251, 1.2854, 1.2866, 1.3320, 1.3011, 1.3479]\n",
        "\n",
        "epochs = range(1, 8)\n",
        "\n",
        "# Create the plot\n",
        "plt.style.use('seaborn-v0_8-paper')\n",
        "plt.figure(figsize=(12, 7))\n",
        "\n",
        "# Plot Model 1\n",
        "plt.plot(epochs, model1_train_loss, 'b-', label='BERT Base Train Loss', linewidth=2, marker='o')\n",
        "plt.plot(epochs, model1_val_loss, 'b--', label='BERT Base Val Loss', linewidth=2, marker='s')\n",
        "\n",
        "# Plot Model 2\n",
        "plt.plot(epochs, model2_train_loss, 'r-', label='BERT RegEx Train Loss', linewidth=2, marker='o')\n",
        "plt.plot(epochs, model2_val_loss, 'r--', label='BERT RegEx Val Loss', linewidth=2, marker='s')\n",
        "\n",
        "# Customize the plot\n",
        "plt.xlabel('Epoch', fontsize=16)\n",
        "plt.ylabel('Loss', fontsize=16)\n",
        "plt.title('Training and Validation Loss - BERT', fontsize=18, pad=20)\n",
        "plt.grid(True, linestyle='--', alpha=0.7)\n",
        "plt.xticks(epochs, fontsize=10)\n",
        "plt.yticks(fontsize=10)\n",
        "\n",
        "# Add legend\n",
        "plt.legend(fontsize=12, bbox_to_anchor=(1, 1))\n",
        "\n",
        "# Adjust layout to prevent text cutoff\n",
        "plt.tight_layout()\n",
        "plt.subplots_adjust(right=0.8)\n",
        "\n",
        "plt.show()"
      ],
      "metadata": {
        "colab": {
          "base_uri": "https://localhost:8080/",
          "height": 706
        },
        "id": "y5cCB8cutZ7O",
        "outputId": "257dd78a-f025-4253-a61b-8fce8a50426d"
      },
      "execution_count": 38,
      "outputs": [
        {
          "output_type": "display_data",
          "data": {
            "text/plain": [
              "<Figure size 1200x700 with 1 Axes>"
            ],
            "image/png": "[encoded data removed]"
          },
          "metadata": {}
        }
      ]
    },
    {
      "cell_type": "code",
      "source": [
        "# Initialize BERT tokenizer and model\n",
        "tokenizer = BertTokenizer.from_pretrained('bert-base-uncased')\n",
        "model = BertModel.from_pretrained('bert-base-uncased')\n",
        "device = torch.device('cuda' if torch.cuda.is_available() else 'cpu')\n",
        "model.to(device)\n",
        "\n",
        "def get_bert_embedding(text):\n",
        "    \"\"\"Get BERT embedding for a single text\"\"\"\n",
        "    # Tokenize and encode\n",
        "    encoding = tokenizer(\n",
        "        text,\n",
        "        padding='max_length',\n",
        "        truncation=True,\n",
        "        max_length=512,\n",
        "        return_tensors='pt'\n",
        "    )\n",
        "\n",
        "    # Move to device\n",
        "    input_ids = encoding['input_ids'].to(device)\n",
        "    attention_mask = encoding['attention_mask'].to(device)\n",
        "\n",
        "    # Get BERT embedding\n",
        "    with torch.no_grad():\n",
        "        outputs = model(input_ids=input_ids, attention_mask=attention_mask)\n",
        "        # Use CLS token embedding\n",
        "        embedding = outputs.last_hidden_state[:, 0, :].cpu().numpy()\n",
        "\n",
        "    return embedding[0]\n",
        "\n",
        "# Create a dictionary to store texts by category\n",
        "category_texts = {}\n",
        "for label, title, desc in zip(labels, titles, extract_tokens):\n",
        "    category = list(label_map.keys())[label]\n",
        "    if category not in category_texts:\n",
        "        category_texts[category] = []\n",
        "    category_texts[category].append(f\"{title} {desc}\")\n",
        "\n",
        "# Get average embedding for each category\n",
        "category_embeddings = {}\n",
        "print(\"Processing categories...\")\n",
        "for category, texts in category_texts.items():\n",
        "    print(f\"Processing {category}...\")\n",
        "    embeddings = []\n",
        "    for text in texts:\n",
        "        embedding = get_bert_embedding(text)\n",
        "        embeddings.append(embedding)\n",
        "    # Calculate average embedding for the category\n",
        "    category_embeddings[category] = np.mean(embeddings, axis=0)\n",
        "\n",
        "# Convert embeddings to array for PCA\n",
        "categories = list(category_embeddings.keys())\n",
        "embeddings_array = np.array([category_embeddings[cat] for cat in categories])\n",
        "\n",
        "# Apply PCA for dimensionality reduction\n",
        "pca = PCA(n_components=2)\n",
        "embeddings_2d = pca.fit_transform(embeddings_array)\n",
        "\n",
        "# Plotting with the specified style\n",
        "plt.style.use('seaborn-v0_8-paper')\n",
        "fig, ax = plt.subplots(figsize=(8, 6))\n",
        "\n",
        "# Create scatter plot\n",
        "colors = ['red', 'blue', 'green', 'purple', 'orange', 'brown', 'pink', 'gray', 'cyan']\n",
        "for i, (category, color) in enumerate(zip(categories, colors)):\n",
        "    plt.scatter(embeddings_2d[i, 0], embeddings_2d[i, 1],\n",
        "               c=[color],\n",
        "               label=category,\n",
        "               s=100,\n",
        "               alpha=0.5)\n",
        "\n",
        "# Customize the plot\n",
        "ax.set_ylabel(f'Second Principal Component ({pca.explained_variance_ratio_[1]:.2%})', fontsize=15)\n",
        "ax.set_xlabel(f'First Principal Component ({pca.explained_variance_ratio_[0]:.2%})', fontsize=15)\n",
        "ax.set_title('BERT Embeddings Visualization by Category\\n(PCA Dimensionality Reduction)',\n",
        "            fontsize=14, pad=15)\n",
        "\n",
        "# Customize ticks\n",
        "plt.xticks(fontsize=12)\n",
        "plt.yticks(fontsize=12)\n",
        "\n",
        "# Add grid for better readability\n",
        "plt.grid(axis='both', linestyle='--', alpha=0.2)\n",
        "ax.set_axisbelow(True)\n",
        "\n",
        "# Customize legend\n",
        "ax.legend(bbox_to_anchor=(0.5, -0.15),\n",
        "         ncol=3,\n",
        "         loc='upper center',\n",
        "         frameon=True,\n",
        "         fontsize=10)\n",
        "\n",
        "# Adjust layout\n",
        "plt.tight_layout()\n",
        "\n",
        "# Show plot\n",
        "plt.show()\n",
        "\n"
      ],
      "metadata": {
        "id": "INyOo6QfMrBf",
        "colab": {
          "base_uri": "https://localhost:8080/",
          "height": 593
        },
        "outputId": "42bfe1eb-e67b-4a26-afd2-ecd64b1e63c9"
      },
      "execution_count": null,
      "outputs": [
        {
          "output_type": "display_data",
          "data": {
            "text/plain": [
              "<Figure size 800x600 with 1 Axes>"
            ],
            "image/png": "[encoded data removed]"
          },
          "metadata": {}
        }
      ]
    },
    {
      "cell_type": "code",
      "source": [
        "# Calculate pairwise distances\n",
        "distances = cosine_distances(embeddings_array)\n",
        "\n",
        "# Create list of all pairs and their distances\n",
        "distance_pairs = []\n",
        "for i, cat1 in enumerate(categories):\n",
        "    for j, cat2 in enumerate(categories):\n",
        "        if i < j:  # Only upper triangle\n",
        "            distance_pairs.append((cat1, cat2, distances[i][j]))\n",
        "\n",
        "# Sort by distance (descending) and get top 5\n",
        "top_5_pairs = sorted(distance_pairs, key=lambda x: x[2], reverse=True)[:5]\n",
        "lower_5_pairs = sorted(distance_pairs, key=lambda x: x[2])[:5]\n",
        "\n",
        "print(\"\\nTop 5 highest pairwise distances:\")\n",
        "for cat1, cat2, dist in top_5_pairs:\n",
        "    print(f\"{cat1} vs {cat2}: {dist:.3f}\")\n",
        "print(\"\\nTop 5 closest pairwise distances:\")\n",
        "for cat1, cat2, dist in lower_5_pairs:\n",
        "    print(f\"{cat1} vs {cat2}: {dist:.3f}\")"
      ],
      "metadata": {
        "id": "_LjK171nIZoc",
        "colab": {
          "base_uri": "https://localhost:8080/"
        },
        "outputId": "8892ea92-e443-45ec-c452-48b898ca3597"
      },
      "execution_count": null,
      "outputs": [
        {
          "output_type": "stream",
          "name": "stdout",
          "text": [
            "\n",
            "Top 5 highest pairwise distances:\n",
            "Non-PM vs Cloud: 0.017\n",
            "Cloud vs Payments: 0.015\n",
            "Non-PM vs API: 0.015\n",
            "Non-PM vs AI / ML: 0.013\n",
            "AI / ML vs Payments: 0.012\n",
            "\n",
            "Top 5 closest pairwise distances:\n",
            "Other type of PM vs Data: 0.002\n",
            "Non-PM vs Other type of PM: 0.002\n",
            "Other type of PM vs Platform: 0.004\n",
            "Platform vs Data: 0.004\n",
            "Other type of PM vs Payments: 0.004\n"
          ]
        }
      ]
    },
    {
      "cell_type": "code",
      "source": [],
      "metadata": {
        "id": "OIksnXI1tbdb"
      },
      "execution_count": null,
      "outputs": []
    }
  ]
}